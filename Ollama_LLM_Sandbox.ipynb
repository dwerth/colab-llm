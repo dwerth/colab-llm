{
  "nbformat": 4,
  "nbformat_minor": 0,
  "metadata": {
    "colab": {
      "provenance": [],
      "gpuType": "T4",
      "authorship_tag": "ABX9TyNpRFIluKrbud7dlFINJLE0",
      "include_colab_link": true
    },
    "kernelspec": {
      "name": "python3",
      "display_name": "Python 3"
    },
    "language_info": {
      "name": "python"
    },
    "accelerator": "GPU",
    "widgets": {
      "application/vnd.jupyter.widget-state+json": {
        "837eeeb1ac524d17b175f08136bde7fa": {
          "model_module": "@jupyter-widgets/controls",
          "model_name": "DropdownModel",
          "model_module_version": "1.5.0",
          "state": {
            "_dom_classes": [],
            "_model_module": "@jupyter-widgets/controls",
            "_model_module_version": "1.5.0",
            "_model_name": "DropdownModel",
            "_options_labels": [
              "deepseek-r1:1.5b",
              "gemma3:1b",
              "granite3.1-moe:1b",
              "granite3.1-moe:3b",
              "ollama llama3.2:1b",
              "phi3",
              "qwen2.5:0.5b",
              "qwen2.5:1.5b",
              "smollm2:1.7b",
              "smollm2:135m",
              "tinyllama",
              "erwan2/DeepSeek-R1-Distill-Qwen-1.5B"
            ],
            "_view_count": null,
            "_view_module": "@jupyter-widgets/controls",
            "_view_module_version": "1.5.0",
            "_view_name": "DropdownView",
            "description": "Select model:",
            "description_tooltip": null,
            "disabled": false,
            "index": 11,
            "layout": "IPY_MODEL_70c119c8440542449c1bcd4b95ca14ef",
            "style": "IPY_MODEL_11ffa4b5b8b74c6d900c5f70be2ea4a1"
          }
        },
        "70c119c8440542449c1bcd4b95ca14ef": {
          "model_module": "@jupyter-widgets/base",
          "model_name": "LayoutModel",
          "model_module_version": "1.2.0",
          "state": {
            "_model_module": "@jupyter-widgets/base",
            "_model_module_version": "1.2.0",
            "_model_name": "LayoutModel",
            "_view_count": null,
            "_view_module": "@jupyter-widgets/base",
            "_view_module_version": "1.2.0",
            "_view_name": "LayoutView",
            "align_content": null,
            "align_items": null,
            "align_self": null,
            "border": null,
            "bottom": null,
            "display": null,
            "flex": null,
            "flex_flow": null,
            "grid_area": null,
            "grid_auto_columns": null,
            "grid_auto_flow": null,
            "grid_auto_rows": null,
            "grid_column": null,
            "grid_gap": null,
            "grid_row": null,
            "grid_template_areas": null,
            "grid_template_columns": null,
            "grid_template_rows": null,
            "height": null,
            "justify_content": null,
            "justify_items": null,
            "left": null,
            "margin": null,
            "max_height": null,
            "max_width": null,
            "min_height": null,
            "min_width": null,
            "object_fit": null,
            "object_position": null,
            "order": null,
            "overflow": null,
            "overflow_x": null,
            "overflow_y": null,
            "padding": null,
            "right": null,
            "top": null,
            "visibility": null,
            "width": "300px"
          }
        },
        "11ffa4b5b8b74c6d900c5f70be2ea4a1": {
          "model_module": "@jupyter-widgets/controls",
          "model_name": "DescriptionStyleModel",
          "model_module_version": "1.5.0",
          "state": {
            "_model_module": "@jupyter-widgets/controls",
            "_model_module_version": "1.5.0",
            "_model_name": "DescriptionStyleModel",
            "_view_count": null,
            "_view_module": "@jupyter-widgets/base",
            "_view_module_version": "1.2.0",
            "_view_name": "StyleView",
            "description_width": "initial"
          }
        },
        "b4b765af083848deb8c16bea117ab791": {
          "model_module": "@jupyter-widgets/controls",
          "model_name": "ButtonModel",
          "model_module_version": "1.5.0",
          "state": {
            "_dom_classes": [],
            "_model_module": "@jupyter-widgets/controls",
            "_model_module_version": "1.5.0",
            "_model_name": "ButtonModel",
            "_view_count": null,
            "_view_module": "@jupyter-widgets/controls",
            "_view_module_version": "1.5.0",
            "_view_name": "ButtonView",
            "button_style": "primary",
            "description": "Pull and Use Selected Model",
            "disabled": false,
            "icon": "",
            "layout": "IPY_MODEL_e4533b047e4147d7a173abc3f3ce5c29",
            "style": "IPY_MODEL_2b09367b28ad4e53a97cb8fa830d66c6",
            "tooltip": "Click to pull the selected model"
          }
        },
        "e4533b047e4147d7a173abc3f3ce5c29": {
          "model_module": "@jupyter-widgets/base",
          "model_name": "LayoutModel",
          "model_module_version": "1.2.0",
          "state": {
            "_model_module": "@jupyter-widgets/base",
            "_model_module_version": "1.2.0",
            "_model_name": "LayoutModel",
            "_view_count": null,
            "_view_module": "@jupyter-widgets/base",
            "_view_module_version": "1.2.0",
            "_view_name": "LayoutView",
            "align_content": null,
            "align_items": null,
            "align_self": null,
            "border": null,
            "bottom": null,
            "display": null,
            "flex": null,
            "flex_flow": null,
            "grid_area": null,
            "grid_auto_columns": null,
            "grid_auto_flow": null,
            "grid_auto_rows": null,
            "grid_column": null,
            "grid_gap": null,
            "grid_row": null,
            "grid_template_areas": null,
            "grid_template_columns": null,
            "grid_template_rows": null,
            "height": null,
            "justify_content": null,
            "justify_items": null,
            "left": null,
            "margin": "10px 0",
            "max_height": null,
            "max_width": null,
            "min_height": null,
            "min_width": null,
            "object_fit": null,
            "object_position": null,
            "order": null,
            "overflow": null,
            "overflow_x": null,
            "overflow_y": null,
            "padding": null,
            "right": null,
            "top": null,
            "visibility": null,
            "width": "200px"
          }
        },
        "2b09367b28ad4e53a97cb8fa830d66c6": {
          "model_module": "@jupyter-widgets/controls",
          "model_name": "ButtonStyleModel",
          "model_module_version": "1.5.0",
          "state": {
            "_model_module": "@jupyter-widgets/controls",
            "_model_module_version": "1.5.0",
            "_model_name": "ButtonStyleModel",
            "_view_count": null,
            "_view_module": "@jupyter-widgets/base",
            "_view_module_version": "1.2.0",
            "_view_name": "StyleView",
            "button_color": null,
            "font_weight": ""
          }
        },
        "89d90344c1444391813c5a2a8a268a69": {
          "model_module": "@jupyter-widgets/output",
          "model_name": "OutputModel",
          "model_module_version": "1.0.0",
          "state": {
            "_dom_classes": [],
            "_model_module": "@jupyter-widgets/output",
            "_model_module_version": "1.0.0",
            "_model_name": "OutputModel",
            "_view_count": null,
            "_view_module": "@jupyter-widgets/output",
            "_view_module_version": "1.0.0",
            "_view_name": "OutputView",
            "layout": "IPY_MODEL_3578f8160a2249dbae506295f364ff5a",
            "msg_id": "",
            "outputs": [
              {
                "output_type": "stream",
                "name": "stdout",
                "text": [
                  "Pulling model: erwan2/DeepSeek-R1-Distill-Qwen-1.5B\n",
                  "This may take a while depending on the model size...\n"
                ]
              },
              {
                "output_type": "stream",
                "name": "stdout",
                "text": [
                  "\u001b[?2026h\u001b[?25l\u001b[1Gpulling manifest ⠙ \u001b[K\u001b[?25h\u001b[?2026l\u001b[?2026h\u001b[?25l\u001b[1Gpulling manifest ⠙ \u001b[K\u001b[?25h\u001b[?2026l"
                ]
              },
              {
                "output_type": "stream",
                "name": "stdout",
                "text": [
                  "\u001b[?2026h\u001b[?25l\u001b[1Gpulling manifest ⠸ \u001b[K\u001b[?25h\u001b[?2026l\u001b[?2026h\u001b[?25l\u001b[1Gpulling manifest ⠸ \u001b[K\u001b[?25h\u001b[?2026l"
                ]
              },
              {
                "output_type": "stream",
                "name": "stdout",
                "text": [
                  "\u001b[?2026h\u001b[?25l\u001b[1Gpulling manifest ⠼ \u001b[K\u001b[?25h\u001b[?2026l\u001b[?2026h\u001b[?25l\u001b[1Gpulling manifest ⠴ \u001b[K\u001b[?25h\u001b[?2026l"
                ]
              },
              {
                "output_type": "stream",
                "name": "stdout",
                "text": [
                  "\u001b[?2026h\u001b[?25l\u001b[1Gpulling manifest ⠧ \u001b[K\u001b[?25h\u001b[?2026l\u001b[?2026h\u001b[?25l\u001b[1Gpulling manifest \u001b[K\n",
                  "pulling 6e85dfbba914...   0% ▕▏    0 B/1.1 GB                  \u001b[K\u001b[?25h\u001b[?2026l"
                ]
              },
              {
                "output_type": "stream",
                "name": "stdout",
                "text": [
                  "\u001b[?2026h\u001b[?25l\u001b[A\u001b[1Gpulling manifest \u001b[K\n",
                  "pulling 6e85dfbba914...   0% ▕▏    0 B/1.1 GB                  \u001b[K\u001b[?25h\u001b[?2026l\u001b[?2026h\u001b[?25l\u001b[A\u001b[1Gpulling manifest \u001b[K\n",
                  "pulling 6e85dfbba914...   0% ▕▏    0 B/1.1 GB                  \u001b[K\u001b[?25h\u001b[?2026l"
                ]
              },
              {
                "output_type": "stream",
                "name": "stdout",
                "text": [
                  "\u001b[?2026h\u001b[?25l\u001b[A\u001b[1Gpulling manifest \u001b[K\n",
                  "pulling 6e85dfbba914...   0% ▕▏    0 B/1.1 GB                  \u001b[K\u001b[?25h\u001b[?2026l\u001b[?2026h\u001b[?25l\u001b[A\u001b[1Gpulling manifest \u001b[K\n",
                  "pulling 6e85dfbba914...   1% ▕▏ 6.7 MB/1.1 GB                  \u001b[K\u001b[?25h\u001b[?2026l"
                ]
              },
              {
                "output_type": "stream",
                "name": "stdout",
                "text": [
                  "\u001b[?2026h\u001b[?25l\u001b[A\u001b[1Gpulling manifest \u001b[K\n",
                  "pulling 6e85dfbba914...   1% ▕▏  10 MB/1.1 GB                  \u001b[K\u001b[?25h\u001b[?2026l\u001b[?2026h\u001b[?25l\u001b[A\u001b[1Gpulling manifest \u001b[K\n",
                  "pulling 6e85dfbba914...   2% ▕▏  25 MB/1.1 GB                  \u001b[K\u001b[?25h\u001b[?2026l"
                ]
              },
              {
                "output_type": "stream",
                "name": "stdout",
                "text": [
                  "\u001b[?2026h\u001b[?25l\u001b[A\u001b[1Gpulling manifest \u001b[K\n",
                  "pulling 6e85dfbba914...   4% ▕▏  48 MB/1.1 GB                  \u001b[K\u001b[?25h\u001b[?2026l\u001b[?2026h\u001b[?25l\u001b[A\u001b[1Gpulling manifest \u001b[K\n",
                  "pulling 6e85dfbba914...   6% ▕▏  64 MB/1.1 GB                  \u001b[K\u001b[?25h\u001b[?2026l\u001b[?2026h\u001b[?25l\u001b[A\u001b[1Gpulling manifest \u001b[K\n",
                  "pulling 6e85dfbba914...   8% ▕▏  89 MB/1.1 GB                  \u001b[K\u001b[?25h\u001b[?2026l"
                ]
              },
              {
                "output_type": "stream",
                "name": "stdout",
                "text": [
                  "\u001b[?2026h\u001b[?25l\u001b[A\u001b[1Gpulling manifest \u001b[K\n",
                  "pulling 6e85dfbba914...  10% ▕▏ 113 MB/1.1 GB   98 MB/s     10s\u001b[K\u001b[?25h\u001b[?2026l\u001b[?2026h\u001b[?25l\u001b[A\u001b[1Gpulling manifest \u001b[K\n",
                  "pulling 6e85dfbba914...  11% ▕▏ 125 MB/1.1 GB   98 MB/s     10s\u001b[K\u001b[?25h\u001b[?2026l\u001b[?2026h\u001b[?25l\u001b[A\u001b[1Gpulling manifest \u001b[K\n",
                  "pulling 6e85dfbba914...  16% ▕▏ 174 MB/1.1 GB   98 MB/s      9s\u001b[K\u001b[?25h\u001b[?2026l"
                ]
              },
              {
                "output_type": "stream",
                "name": "stdout",
                "text": [
                  "\u001b[?2026h\u001b[?25l\u001b[A\u001b[1Gpulling manifest \u001b[K\n",
                  "pulling 6e85dfbba914...  17% ▕▏ 189 MB/1.1 GB   98 MB/s      9s\u001b[K\u001b[?25h\u001b[?2026l\u001b[?2026h\u001b[?25l\u001b[A\u001b[1Gpulling manifest \u001b[K\n",
                  "pulling 6e85dfbba914...  19% ▕▏ 207 MB/1.1 GB   98 MB/s      9s\u001b[K\u001b[?25h\u001b[?2026l"
                ]
              },
              {
                "output_type": "stream",
                "name": "stdout",
                "text": [
                  "\u001b[?2026h\u001b[?25l\u001b[A\u001b[1Gpulling manifest \u001b[K\n",
                  "pulling 6e85dfbba914...  21% ▕▏ 231 MB/1.1 GB   98 MB/s      8s\u001b[K\u001b[?25h\u001b[?2026l\u001b[?2026h\u001b[?25l\u001b[A\u001b[1Gpulling manifest \u001b[K\n",
                  "pulling 6e85dfbba914...  22% ▕▏ 251 MB/1.1 GB   98 MB/s      8s\u001b[K\u001b[?25h\u001b[?2026l\u001b[?2026h\u001b[?25l\u001b[A\u001b[1Gpulling manifest \u001b[K\n",
                  "pulling 6e85dfbba914...  26% ▕▏ 285 MB/1.1 GB   98 MB/s      8s\u001b[K\u001b[?25h\u001b[?2026l"
                ]
              },
              {
                "output_type": "stream",
                "name": "stdout",
                "text": [
                  "\u001b[?2026h\u001b[?25l\u001b[A\u001b[1Gpulling manifest \u001b[K\n",
                  "pulling 6e85dfbba914...  27% ▕▏ 304 MB/1.1 GB   98 MB/s      8s\u001b[K\u001b[?25h\u001b[?2026l\u001b[?2026h\u001b[?25l\u001b[A\u001b[1Gpulling manifest \u001b[K\n",
                  "pulling 6e85dfbba914...  30% ▕▏ 329 MB/1.1 GB   98 MB/s      7s\u001b[K\u001b[?25h\u001b[?2026l\u001b[?2026h\u001b[?25l\u001b[A\u001b[1Gpulling manifest \u001b[K\n",
                  "pulling 6e85dfbba914...  32% ▕▏ 354 MB/1.1 GB  177 MB/s      4s\u001b[K\u001b[?25h\u001b[?2026l"
                ]
              },
              {
                "output_type": "stream",
                "name": "stdout",
                "text": [
                  "\u001b[?2026h\u001b[?25l\u001b[A\u001b[1Gpulling manifest \u001b[K\n",
                  "pulling 6e85dfbba914...  36% ▕▏ 406 MB/1.1 GB  177 MB/s      4s\u001b[K\u001b[?25h\u001b[?2026l\u001b[?2026h\u001b[?25l\u001b[A\u001b[1Gpulling manifest \u001b[K\n",
                  "pulling 6e85dfbba914...  39% ▕▏ 430 MB/1.1 GB  177 MB/s      3s\u001b[K\u001b[?25h\u001b[?2026l"
                ]
              },
              {
                "output_type": "stream",
                "name": "stdout",
                "text": [
                  "\u001b[?2026h\u001b[?25l\u001b[A\u001b[1Gpulling manifest \u001b[K\n",
                  "pulling 6e85dfbba914...  41% ▕▏ 463 MB/1.1 GB  177 MB/s      3s\u001b[K\u001b[?25h\u001b[?2026l\u001b[?2026h\u001b[?25l\u001b[A\u001b[1Gpulling manifest \u001b[K\n",
                  "pulling 6e85dfbba914...  45% ▕▏ 508 MB/1.1 GB  177 MB/s      3s\u001b[K\u001b[?25h\u001b[?2026l\u001b[?2026h\u001b[?25l\u001b[A\u001b[1Gpulling manifest \u001b[K\n",
                  "pulling 6e85dfbba914...  47% ▕▏ 529 MB/1.1 GB  177 MB/s      3s\u001b[K\u001b[?25h\u001b[?2026l"
                ]
              },
              {
                "output_type": "stream",
                "name": "stdout",
                "text": [
                  "\u001b[?2026h\u001b[?25l\u001b[A\u001b[1Gpulling manifest \u001b[K\n",
                  "pulling 6e85dfbba914...  52% ▕▏ 575 MB/1.1 GB  177 MB/s      3s\u001b[K\u001b[?25h\u001b[?2026l\u001b[?2026h\u001b[?25l\u001b[A\u001b[1Gpulling manifest \u001b[K\n",
                  "pulling 6e85dfbba914...  55% ▕▏ 619 MB/1.1 GB  177 MB/s      2s\u001b[K\u001b[?25h\u001b[?2026l\u001b[?2026h\u001b[?25l\u001b[A\u001b[1Gpulling manifest \u001b[K\n",
                  "pulling 6e85dfbba914...  59% ▕▏ 656 MB/1.1 GB  177 MB/s      2s\u001b[K\u001b[?25h\u001b[?2026l"
                ]
              },
              {
                "output_type": "stream",
                "name": "stdout",
                "text": [
                  "\u001b[?2026h\u001b[?25l\u001b[A\u001b[1Gpulling manifest \u001b[K\n",
                  "pulling 6e85dfbba914...  60% ▕▏ 672 MB/1.1 GB  177 MB/s      2s\u001b[K\u001b[?25h\u001b[?2026l\u001b[?2026h\u001b[?25l\u001b[A\u001b[1Gpulling manifest \u001b[K\n",
                  "pulling 6e85dfbba914...  64% ▕▏ 711 MB/1.1 GB  237 MB/s      1s\u001b[K\u001b[?25h\u001b[?2026l"
                ]
              },
              {
                "output_type": "stream",
                "name": "stdout",
                "text": [
                  "\u001b[?2026h\u001b[?25l\u001b[A\u001b[1Gpulling manifest \u001b[K\n",
                  "pulling 6e85dfbba914...  67% ▕▏ 745 MB/1.1 GB  237 MB/s      1s\u001b[K\u001b[?25h\u001b[?2026l\u001b[?2026h\u001b[?25l\u001b[A\u001b[1Gpulling manifest \u001b[K\n",
                  "pulling 6e85dfbba914...  68% ▕▏ 757 MB/1.1 GB  237 MB/s      1s\u001b[K\u001b[?25h\u001b[?2026l\u001b[?2026h\u001b[?25l\u001b[A\u001b[1Gpulling manifest \u001b[K\n",
                  "pulling 6e85dfbba914...  70% ▕▏ 785 MB/1.1 GB  237 MB/s      1s\u001b[K\u001b[?25h\u001b[?2026l"
                ]
              },
              {
                "output_type": "stream",
                "name": "stdout",
                "text": [
                  "\u001b[?2026h\u001b[?25l\u001b[A\u001b[1Gpulling manifest \u001b[K\n",
                  "pulling 6e85dfbba914...  72% ▕▏ 801 MB/1.1 GB  237 MB/s      1s\u001b[K\u001b[?25h\u001b[?2026l\u001b[?2026h\u001b[?25l\u001b[A\u001b[1Gpulling manifest \u001b[K\n",
                  "pulling 6e85dfbba914...  74% ▕▏ 829 MB/1.1 GB  237 MB/s      1s\u001b[K\u001b[?25h\u001b[?2026l"
                ]
              },
              {
                "output_type": "stream",
                "name": "stdout",
                "text": [
                  "\u001b[?2026h\u001b[?25l\u001b[A\u001b[1Gpulling manifest \u001b[K\n",
                  "pulling 6e85dfbba914...  77% ▕▏ 862 MB/1.1 GB  237 MB/s      1s\u001b[K\u001b[?25h\u001b[?2026l\u001b[?2026h\u001b[?25l\u001b[A\u001b[1Gpulling manifest \u001b[K\n",
                  "pulling 6e85dfbba914...  78% ▕▏ 874 MB/1.1 GB  237 MB/s      1s\u001b[K\u001b[?25h\u001b[?2026l"
                ]
              },
              {
                "output_type": "stream",
                "name": "stdout",
                "text": [
                  "\u001b[?2026h\u001b[?25l\u001b[A\u001b[1Gpulling manifest \u001b[K\n",
                  "pulling 6e85dfbba914...  81% ▕▏ 904 MB/1.1 GB  237 MB/s      0s\u001b[K\u001b[?25h\u001b[?2026l\u001b[?2026h\u001b[?25l\u001b[A\u001b[1Gpulling manifest \u001b[K\n",
                  "pulling 6e85dfbba914...  81% ▕▏ 906 MB/1.1 GB  237 MB/s      0s\u001b[K\u001b[?25h\u001b[?2026l"
                ]
              },
              {
                "output_type": "stream",
                "name": "stdout",
                "text": [
                  "\u001b[?2026h\u001b[?25l\u001b[A\u001b[1Gpulling manifest \u001b[K\n",
                  "pulling 6e85dfbba914...  81% ▕▏ 907 MB/1.1 GB  226 MB/s      0s\u001b[K\u001b[?25h\u001b[?2026l\u001b[?2026h\u001b[?25l\u001b[A\u001b[1Gpulling manifest \u001b[K\n",
                  "pulling 6e85dfbba914...  81% ▕▏ 907 MB/1.1 GB  226 MB/s      0s\u001b[K\u001b[?25h\u001b[?2026l\u001b[?2026h\u001b[?25l\u001b[A\u001b[1Gpulling manifest \u001b[K\n",
                  "pulling 6e85dfbba914...  81% ▕▏ 908 MB/1.1 GB  226 MB/s      0s\u001b[K\u001b[?25h\u001b[?2026l"
                ]
              },
              {
                "output_type": "stream",
                "name": "stdout",
                "text": [
                  "\u001b[?2026h\u001b[?25l\u001b[A\u001b[1Gpulling manifest \u001b[K\n",
                  "pulling 6e85dfbba914...  81% ▕▏ 908 MB/1.1 GB  226 MB/s      0s\u001b[K\u001b[?25h\u001b[?2026l\u001b[?2026h\u001b[?25l\u001b[A\u001b[1Gpulling manifest \u001b[K\n",
                  "pulling 6e85dfbba914...  81% ▕▏ 908 MB/1.1 GB  226 MB/s      0s\u001b[K\u001b[?25h\u001b[?2026l"
                ]
              },
              {
                "output_type": "stream",
                "name": "stdout",
                "text": [
                  "\u001b[?2026h\u001b[?25l\u001b[A\u001b[1Gpulling manifest \u001b[K\n",
                  "pulling 6e85dfbba914...  81% ▕▏ 908 MB/1.1 GB  226 MB/s      0s\u001b[K\u001b[?25h\u001b[?2026l\u001b[?2026h\u001b[?25l\u001b[A\u001b[1Gpulling manifest \u001b[K\n",
                  "pulling 6e85dfbba914...  81% ▕▏ 909 MB/1.1 GB  226 MB/s      0s\u001b[K\u001b[?25h\u001b[?2026l"
                ]
              },
              {
                "output_type": "stream",
                "name": "stdout",
                "text": [
                  "\u001b[?2026h\u001b[?25l\u001b[A\u001b[1Gpulling manifest \u001b[K\n",
                  "pulling 6e85dfbba914...  81% ▕▏ 909 MB/1.1 GB  226 MB/s      0s\u001b[K\u001b[?25h\u001b[?2026l\u001b[?2026h\u001b[?25l\u001b[A\u001b[1Gpulling manifest \u001b[K\n",
                  "pulling 6e85dfbba914...  81% ▕▏ 909 MB/1.1 GB  226 MB/s      0s\u001b[K\u001b[?25h\u001b[?2026l"
                ]
              },
              {
                "output_type": "stream",
                "name": "stdout",
                "text": [
                  "\u001b[?2026h\u001b[?25l\u001b[A\u001b[1Gpulling manifest \u001b[K\n",
                  "pulling 6e85dfbba914...  81% ▕▏ 910 MB/1.1 GB  226 MB/s      0s\u001b[K\u001b[?25h\u001b[?2026l\u001b[?2026h\u001b[?25l\u001b[A\u001b[1Gpulling manifest \u001b[K\n",
                  "pulling 6e85dfbba914...  81% ▕▏ 910 MB/1.1 GB  226 MB/s      0s\u001b[K\u001b[?25h\u001b[?2026l"
                ]
              },
              {
                "output_type": "stream",
                "name": "stdout",
                "text": [
                  "\u001b[?2026h\u001b[?25l\u001b[A\u001b[1Gpulling manifest \u001b[K\n",
                  "pulling 6e85dfbba914...  81% ▕▏ 910 MB/1.1 GB  182 MB/s      1s\u001b[K\u001b[?25h\u001b[?2026l\u001b[?2026h\u001b[?25l\u001b[A\u001b[1Gpulling manifest \u001b[K\n",
                  "pulling 6e85dfbba914...  82% ▕▏ 911 MB/1.1 GB  182 MB/s      1s\u001b[K\u001b[?25h\u001b[?2026l\u001b[?2026h\u001b[?25l\u001b[A\u001b[1Gpulling manifest \u001b[K\n",
                  "pulling 6e85dfbba914...  82% ▕▏ 911 MB/1.1 GB  182 MB/s      1s\u001b[K\u001b[?25h\u001b[?2026l"
                ]
              },
              {
                "output_type": "stream",
                "name": "stdout",
                "text": [
                  "\u001b[?2026h\u001b[?25l\u001b[A\u001b[1Gpulling manifest \u001b[K\n",
                  "pulling 6e85dfbba914...  82% ▕▏ 911 MB/1.1 GB  182 MB/s      1s\u001b[K\u001b[?25h\u001b[?2026l\u001b[?2026h\u001b[?25l\u001b[A\u001b[1Gpulling manifest \u001b[K\n",
                  "pulling 6e85dfbba914...  82% ▕▏ 911 MB/1.1 GB  182 MB/s      1s\u001b[K\u001b[?25h\u001b[?2026l"
                ]
              },
              {
                "output_type": "stream",
                "name": "stdout",
                "text": [
                  "\u001b[?2026h\u001b[?25l\u001b[A\u001b[1Gpulling manifest \u001b[K\n",
                  "pulling 6e85dfbba914...  82% ▕▏ 912 MB/1.1 GB  182 MB/s      1s\u001b[K\u001b[?25h\u001b[?2026l\u001b[?2026h\u001b[?25l\u001b[A\u001b[1Gpulling manifest \u001b[K\n",
                  "pulling 6e85dfbba914...  82% ▕▏ 912 MB/1.1 GB  182 MB/s      1s\u001b[K\u001b[?25h\u001b[?2026l\u001b[?2026h\u001b[?25l\u001b[A\u001b[1Gpulling manifest \u001b[K\n",
                  "pulling 6e85dfbba914...  82% ▕▏ 912 MB/1.1 GB  182 MB/s      1s\u001b[K\u001b[?25h\u001b[?2026l"
                ]
              },
              {
                "output_type": "stream",
                "name": "stdout",
                "text": [
                  "\u001b[?2026h\u001b[?25l\u001b[A\u001b[1Gpulling manifest \u001b[K\n",
                  "pulling 6e85dfbba914...  85% ▕▏ 945 MB/1.1 GB  182 MB/s      0s\u001b[K\u001b[?25h\u001b[?2026l\u001b[?2026h\u001b[?25l\u001b[A\u001b[1Gpulling manifest \u001b[K\n",
                  "pulling 6e85dfbba914...  89% ▕▏ 989 MB/1.1 GB  182 MB/s      0s\u001b[K\u001b[?25h\u001b[?2026l"
                ]
              },
              {
                "output_type": "stream",
                "name": "stdout",
                "text": [
                  "\u001b[?2026h\u001b[?25l\u001b[A\u001b[1Gpulling manifest \u001b[K\n",
                  "pulling 6e85dfbba914...  91% ▕▏ 1.0 GB/1.1 GB  166 MB/s      0s\u001b[K\u001b[?25h\u001b[?2026l\u001b[?2026h\u001b[?25l\u001b[A\u001b[1Gpulling manifest \u001b[K\n",
                  "pulling 6e85dfbba914...  92% ▕▏ 1.0 GB/1.1 GB  166 MB/s      0s\u001b[K\u001b[?25h\u001b[?2026l\u001b[?2026h\u001b[?25l\u001b[A\u001b[1Gpulling manifest \u001b[K\n",
                  "pulling 6e85dfbba914...  93% ▕▏ 1.0 GB/1.1 GB  166 MB/s      0s\u001b[K\u001b[?25h\u001b[?2026l"
                ]
              },
              {
                "output_type": "stream",
                "name": "stdout",
                "text": [
                  "\u001b[?2026h\u001b[?25l\u001b[A\u001b[1Gpulling manifest \u001b[K\n",
                  "pulling 6e85dfbba914...  94% ▕▏ 1.0 GB/1.1 GB  166 MB/s      0s\u001b[K\u001b[?25h\u001b[?2026l\u001b[?2026h\u001b[?25l\u001b[A\u001b[1Gpulling manifest \u001b[K\n",
                  "pulling 6e85dfbba914...  94% ▕▏ 1.0 GB/1.1 GB  166 MB/s      0s\u001b[K\u001b[?25h\u001b[?2026l"
                ]
              },
              {
                "output_type": "stream",
                "name": "stdout",
                "text": [
                  "\u001b[?2026h\u001b[?25l\u001b[A\u001b[1Gpulling manifest \u001b[K\n",
                  "pulling 6e85dfbba914...  94% ▕▏ 1.1 GB/1.1 GB  166 MB/s      0s\u001b[K\u001b[?25h\u001b[?2026l\u001b[?2026h\u001b[?25l\u001b[A\u001b[1Gpulling manifest \u001b[K\n",
                  "pulling 6e85dfbba914...  95% ▕▏ 1.1 GB/1.1 GB  166 MB/s      0s\u001b[K\u001b[?25h\u001b[?2026l"
                ]
              },
              {
                "output_type": "stream",
                "name": "stdout",
                "text": [
                  "\u001b[?2026h\u001b[?25l\u001b[A\u001b[1Gpulling manifest \u001b[K\n",
                  "pulling 6e85dfbba914...  95% ▕▏ 1.1 GB/1.1 GB  166 MB/s      0s\u001b[K\u001b[?25h\u001b[?2026l\u001b[?2026h\u001b[?25l\u001b[A\u001b[1Gpulling manifest \u001b[K\n",
                  "pulling 6e85dfbba914...  96% ▕▏ 1.1 GB/1.1 GB  166 MB/s      0s\u001b[K\u001b[?25h\u001b[?2026l\u001b[?2026h\u001b[?25l\u001b[A\u001b[1Gpulling manifest \u001b[K\n",
                  "pulling 6e85dfbba914...  97% ▕▏ 1.1 GB/1.1 GB  166 MB/s      0s\u001b[K\u001b[?25h\u001b[?2026l"
                ]
              },
              {
                "output_type": "stream",
                "name": "stdout",
                "text": [
                  "\u001b[?2026h\u001b[?25l\u001b[A\u001b[1Gpulling manifest \u001b[K\n",
                  "pulling 6e85dfbba914...  97% ▕▏ 1.1 GB/1.1 GB  154 MB/s      0s\u001b[K\u001b[?25h\u001b[?2026l\u001b[?2026h\u001b[?25l\u001b[A\u001b[1Gpulling manifest \u001b[K\n",
                  "pulling 6e85dfbba914...  98% ▕▏ 1.1 GB/1.1 GB  154 MB/s      0s\u001b[K\u001b[?25h\u001b[?2026l"
                ]
              },
              {
                "output_type": "stream",
                "name": "stdout",
                "text": [
                  "\u001b[?2026h\u001b[?25l\u001b[A\u001b[1Gpulling manifest \u001b[K\n",
                  "pulling 6e85dfbba914...  98% ▕▏ 1.1 GB/1.1 GB  154 MB/s      0s\u001b[K\u001b[?25h\u001b[?2026l\u001b[?2026h\u001b[?25l\u001b[A\u001b[1Gpulling manifest \u001b[K\n",
                  "pulling 6e85dfbba914...  98% ▕▏ 1.1 GB/1.1 GB  154 MB/s      0s\u001b[K\u001b[?25h\u001b[?2026l\u001b[?2026h\u001b[?25l\u001b[A\u001b[1Gpulling manifest \u001b[K\n",
                  "pulling 6e85dfbba914...  98% ▕▏ 1.1 GB/1.1 GB  154 MB/s      0s\u001b[K\u001b[?25h\u001b[?2026l"
                ]
              },
              {
                "output_type": "stream",
                "name": "stdout",
                "text": [
                  "\u001b[?2026h\u001b[?25l\u001b[A\u001b[1Gpulling manifest \u001b[K\n",
                  "pulling 6e85dfbba914...  98% ▕▏ 1.1 GB/1.1 GB  154 MB/s      0s\u001b[K\u001b[?25h\u001b[?2026l\u001b[?2026h\u001b[?25l\u001b[A\u001b[1Gpulling manifest \u001b[K\n",
                  "pulling 6e85dfbba914...  98% ▕▏ 1.1 GB/1.1 GB  154 MB/s      0s\u001b[K\u001b[?25h\u001b[?2026l\u001b[?2026h\u001b[?25l\u001b[A\u001b[1Gpulling manifest \u001b[K\n",
                  "pulling 6e85dfbba914...  99% ▕▏ 1.1 GB/1.1 GB  154 MB/s      0s\u001b[K\u001b[?25h\u001b[?2026l"
                ]
              },
              {
                "output_type": "stream",
                "name": "stdout",
                "text": [
                  "\u001b[?2026h\u001b[?25l\u001b[A\u001b[1Gpulling manifest \u001b[K\n",
                  "pulling 6e85dfbba914...  99% ▕▏ 1.1 GB/1.1 GB  154 MB/s      0s\u001b[K\u001b[?25h\u001b[?2026l\u001b[?2026h\u001b[?25l\u001b[A\u001b[1Gpulling manifest \u001b[K\n",
                  "pulling 6e85dfbba914...  99% ▕▏ 1.1 GB/1.1 GB  154 MB/s      0s\u001b[K\u001b[?25h\u001b[?2026l"
                ]
              },
              {
                "output_type": "stream",
                "name": "stdout",
                "text": [
                  "\u001b[?2026h\u001b[?25l\u001b[A\u001b[1Gpulling manifest \u001b[K\n",
                  "pulling 6e85dfbba914...  99% ▕▏ 1.1 GB/1.1 GB  137 MB/s      0s\u001b[K\u001b[?25h\u001b[?2026l\u001b[?2026h\u001b[?25l\u001b[A\u001b[1Gpulling manifest \u001b[K\n",
                  "pulling 6e85dfbba914...  99% ▕▏ 1.1 GB/1.1 GB  137 MB/s      0s\u001b[K\u001b[?25h\u001b[?2026l\u001b[?2026h\u001b[?25l\u001b[A\u001b[1Gpulling manifest \u001b[K\n",
                  "pulling 6e85dfbba914...  99% ▕▏ 1.1 GB/1.1 GB  137 MB/s      0s\u001b[K\u001b[?25h\u001b[?2026l"
                ]
              },
              {
                "output_type": "stream",
                "name": "stdout",
                "text": [
                  "\u001b[?2026h\u001b[?25l\u001b[A\u001b[1Gpulling manifest \u001b[K\n",
                  "pulling 6e85dfbba914...  99% ▕▏ 1.1 GB/1.1 GB  137 MB/s      0s\u001b[K\u001b[?25h\u001b[?2026l\u001b[?2026h\u001b[?25l\u001b[A\u001b[1Gpulling manifest \u001b[K\n",
                  "pulling 6e85dfbba914...  99% ▕▏ 1.1 GB/1.1 GB  137 MB/s      0s\u001b[K\u001b[?25h\u001b[?2026l"
                ]
              },
              {
                "output_type": "stream",
                "name": "stdout",
                "text": [
                  "\u001b[?2026h\u001b[?25l\u001b[A\u001b[1Gpulling manifest \u001b[K\n",
                  "pulling 6e85dfbba914... 100% ▕▏ 1.1 GB/1.1 GB  137 MB/s      0s\u001b[K\u001b[?25h\u001b[?2026l\u001b[?2026h\u001b[?25l\u001b[A\u001b[1Gpulling manifest \u001b[K\n",
                  "pulling 6e85dfbba914... 100% ▕▏ 1.1 GB/1.1 GB  137 MB/s      0s\u001b[K\u001b[?25h\u001b[?2026l\u001b[?2026h\u001b[?25l\u001b[A\u001b[1Gpulling manifest \u001b[K\n",
                  "pulling 6e85dfbba914... 100% ▕▏ 1.1 GB/1.1 GB  137 MB/s      0s\u001b[K\u001b[?25h\u001b[?2026l"
                ]
              },
              {
                "output_type": "stream",
                "name": "stdout",
                "text": [
                  "\u001b[?2026h\u001b[?25l\u001b[A\u001b[1Gpulling manifest \u001b[K\n",
                  "pulling 6e85dfbba914... 100% ▕▏ 1.1 GB/1.1 GB  137 MB/s      0s\u001b[K\u001b[?25h\u001b[?2026l\u001b[?2026h\u001b[?25l\u001b[A\u001b[1Gpulling manifest \u001b[K\n",
                  "pulling 6e85dfbba914... 100% ▕▏ 1.1 GB                         \u001b[K\u001b[?25h\u001b[?2026l"
                ]
              },
              {
                "output_type": "stream",
                "name": "stdout",
                "text": [
                  "\u001b[?2026h\u001b[?25l\u001b[A\u001b[1Gpulling manifest \u001b[K\n",
                  "pulling 6e85dfbba914... 100% ▕▏ 1.1 GB                         \u001b[K\u001b[?25h\u001b[?2026l\u001b[?2026h\u001b[?25l\u001b[A\u001b[1Gpulling manifest \u001b[K\n",
                  "pulling 6e85dfbba914... 100% ▕▏ 1.1 GB                         \u001b[K\u001b[?25h\u001b[?2026l\u001b[?2026h\u001b[?25l\u001b[A\u001b[1Gpulling manifest \u001b[K\n",
                  "pulling 6e85dfbba914... 100% ▕▏ 1.1 GB                         \u001b[K\n",
                  "pulling 369ca498f347...   0% ▕▏    0 B/ 387 B                  \u001b[K\u001b[?25h\u001b[?2026l"
                ]
              },
              {
                "output_type": "stream",
                "name": "stdout",
                "text": [
                  "\u001b[?2026h\u001b[?25l\u001b[A\u001b[A\u001b[1Gpulling manifest \u001b[K\n",
                  "pulling 6e85dfbba914... 100% ▕▏ 1.1 GB                         \u001b[K\n",
                  "pulling 369ca498f347...   0% ▕▏    0 B/ 387 B                  \u001b[K\u001b[?25h\u001b[?2026l\u001b[?2026h\u001b[?25l\u001b[A\u001b[A\u001b[1Gpulling manifest \u001b[K\n",
                  "pulling 6e85dfbba914... 100% ▕▏ 1.1 GB                         \u001b[K\n",
                  "pulling 369ca498f347...   0% ▕▏    0 B/ 387 B                  \u001b[K\u001b[?25h\u001b[?2026l\u001b[?2026h\u001b[?25l\u001b[A\u001b[A\u001b[1Gpulling manifest \u001b[K\n",
                  "pulling 6e85dfbba914... 100% ▕▏ 1.1 GB                         \u001b[K\n",
                  "pulling 369ca498f347... 100% ▕▏  387 B                         \u001b[K\u001b[?25h\u001b[?2026l"
                ]
              },
              {
                "output_type": "stream",
                "name": "stdout",
                "text": [
                  "\u001b[?2026h\u001b[?25l\u001b[A\u001b[A\u001b[1Gpulling manifest \u001b[K\n",
                  "pulling 6e85dfbba914... 100% ▕▏ 1.1 GB                         \u001b[K\n",
                  "pulling 369ca498f347... 100% ▕▏  387 B                         \u001b[K\u001b[?25h\u001b[?2026l\u001b[?2026h\u001b[?25l\u001b[A\u001b[A\u001b[1Gpulling manifest \u001b[K\n",
                  "pulling 6e85dfbba914... 100% ▕▏ 1.1 GB                         \u001b[K\n",
                  "pulling 369ca498f347... 100% ▕▏  387 B                         \u001b[K\u001b[?25h\u001b[?2026l\u001b[?2026h\u001b[?25l\u001b[A\u001b[A\u001b[1Gpulling manifest \u001b[K\n",
                  "pulling 6e85dfbba914... 100% ▕▏ 1.1 GB                         \u001b[K\n",
                  "pulling 369ca498f347... 100% ▕▏  387 B                         \u001b[K\u001b[?25h\u001b[?2026l"
                ]
              },
              {
                "output_type": "stream",
                "name": "stdout",
                "text": [
                  "\u001b[?2026h\u001b[?25l\u001b[A\u001b[A\u001b[1Gpulling manifest \u001b[K\n",
                  "pulling 6e85dfbba914... 100% ▕▏ 1.1 GB                         \u001b[K\n",
                  "pulling 369ca498f347... 100% ▕▏  387 B                         \u001b[K\u001b[?25h\u001b[?2026l\u001b[?2026h\u001b[?25l\u001b[A\u001b[A\u001b[1Gpulling manifest \u001b[K\n",
                  "pulling 6e85dfbba914... 100% ▕▏ 1.1 GB                         \u001b[K\n",
                  "pulling 369ca498f347... 100% ▕▏  387 B                         \u001b[K\u001b[?25h\u001b[?2026l\u001b[?2026h\u001b[?25l\u001b[A\u001b[A\u001b[1Gpulling manifest \u001b[K\n",
                  "pulling 6e85dfbba914... 100% ▕▏ 1.1 GB                         \u001b[K\n",
                  "pulling 369ca498f347... 100% ▕▏  387 B                         \u001b[K\u001b[?25h\u001b[?2026l"
                ]
              },
              {
                "output_type": "stream",
                "name": "stdout",
                "text": [
                  "\u001b[?2026h\u001b[?25l\u001b[A\u001b[A\u001b[1Gpulling manifest \u001b[K\n",
                  "pulling 6e85dfbba914... 100% ▕▏ 1.1 GB                         \u001b[K\n",
                  "pulling 369ca498f347... 100% ▕▏  387 B                         \u001b[K\u001b[?25h\u001b[?2026l\u001b[?2026h\u001b[?25l\u001b[A\u001b[A\u001b[1Gpulling manifest \u001b[K\n",
                  "pulling 6e85dfbba914... 100% ▕▏ 1.1 GB                         \u001b[K\n",
                  "pulling 369ca498f347... 100% ▕▏  387 B                         \u001b[K\u001b[?25h\u001b[?2026l\u001b[?2026h\u001b[?25l\u001b[A\u001b[A\u001b[1Gpulling manifest \u001b[K\n",
                  "pulling 6e85dfbba914... 100% ▕▏ 1.1 GB                         \u001b[K\n",
                  "pulling 369ca498f347... 100% ▕▏  387 B                         \u001b[K\u001b[?25h\u001b[?2026l"
                ]
              },
              {
                "output_type": "stream",
                "name": "stdout",
                "text": [
                  "\u001b[?2026h\u001b[?25l\u001b[A\u001b[A\u001b[1Gpulling manifest \u001b[K\n",
                  "pulling 6e85dfbba914... 100% ▕▏ 1.1 GB                         \u001b[K\n",
                  "pulling 369ca498f347... 100% ▕▏  387 B                         \u001b[K\n",
                  "pulling f4d24e9138dd...   0% ▕▏    0 B/ 148 B                  \u001b[K\u001b[?25h\u001b[?2026l\u001b[?2026h\u001b[?25l\u001b[A\u001b[A\u001b[A\u001b[1Gpulling manifest \u001b[K\n",
                  "pulling 6e85dfbba914... 100% ▕▏ 1.1 GB                         \u001b[K\n",
                  "pulling 369ca498f347... 100% ▕▏  387 B                         \u001b[K\n",
                  "pulling f4d24e9138dd...   0% ▕▏    0 B/ 148 B                  \u001b[K\u001b[?25h\u001b[?2026l\u001b[?2026h\u001b[?25l\u001b[A\u001b[A\u001b[A\u001b[1Gpulling manifest \u001b[K\n",
                  "pulling 6e85dfbba914... 100% ▕▏ 1.1 GB                         \u001b[K\n",
                  "pulling 369ca498f347... 100% ▕▏  387 B                         \u001b[K\n",
                  "pulling f4d24e9138dd... 100% ▕▏  148 B                         \u001b[K\u001b[?25h\u001b[?2026l"
                ]
              },
              {
                "output_type": "stream",
                "name": "stdout",
                "text": [
                  "\u001b[?2026h\u001b[?25l\u001b[A\u001b[A\u001b[A\u001b[1Gpulling manifest \u001b[K\n",
                  "pulling 6e85dfbba914... 100% ▕▏ 1.1 GB                         \u001b[K\n",
                  "pulling 369ca498f347... 100% ▕▏  387 B                         \u001b[K\n",
                  "pulling f4d24e9138dd... 100% ▕▏  148 B                         \u001b[K\u001b[?25h\u001b[?2026l\u001b[?2026h\u001b[?25l\u001b[A\u001b[A\u001b[A\u001b[1Gpulling manifest \u001b[K\n",
                  "pulling 6e85dfbba914... 100% ▕▏ 1.1 GB                         \u001b[K\n",
                  "pulling 369ca498f347... 100% ▕▏  387 B                         \u001b[K\n",
                  "pulling f4d24e9138dd... 100% ▕▏  148 B                         \u001b[K\u001b[?25h\u001b[?2026l"
                ]
              },
              {
                "output_type": "stream",
                "name": "stdout",
                "text": [
                  "\u001b[?2026h\u001b[?25l\u001b[A\u001b[A\u001b[A\u001b[1Gpulling manifest \u001b[K\n",
                  "pulling 6e85dfbba914... 100% ▕▏ 1.1 GB                         \u001b[K\n",
                  "pulling 369ca498f347... 100% ▕▏  387 B                         \u001b[K\n",
                  "pulling f4d24e9138dd... 100% ▕▏  148 B                         \u001b[K\u001b[?25h\u001b[?2026l\u001b[?2026h\u001b[?25l\u001b[A\u001b[A\u001b[A\u001b[1Gpulling manifest \u001b[K\n",
                  "pulling 6e85dfbba914... 100% ▕▏ 1.1 GB                         \u001b[K\n",
                  "pulling 369ca498f347... 100% ▕▏  387 B                         \u001b[K\n",
                  "pulling f4d24e9138dd... 100% ▕▏  148 B                         \u001b[K\u001b[?25h\u001b[?2026l"
                ]
              },
              {
                "output_type": "stream",
                "name": "stdout",
                "text": [
                  "\u001b[?2026h\u001b[?25l\u001b[A\u001b[A\u001b[A\u001b[1Gpulling manifest \u001b[K\n",
                  "pulling 6e85dfbba914... 100% ▕▏ 1.1 GB                         \u001b[K\n",
                  "pulling 369ca498f347... 100% ▕▏  387 B                         \u001b[K\n",
                  "pulling f4d24e9138dd... 100% ▕▏  148 B                         \u001b[K\u001b[?25h\u001b[?2026l\u001b[?2026h\u001b[?25l\u001b[A\u001b[A\u001b[A\u001b[1Gpulling manifest \u001b[K\n",
                  "pulling 6e85dfbba914... 100% ▕▏ 1.1 GB                         \u001b[K\n",
                  "pulling 369ca498f347... 100% ▕▏  387 B                         \u001b[K\n",
                  "pulling f4d24e9138dd... 100% ▕▏  148 B                         \u001b[K\u001b[?25h\u001b[?2026l\u001b[?2026h\u001b[?25l\u001b[A\u001b[A\u001b[A\u001b[1Gpulling manifest \u001b[K\n",
                  "pulling 6e85dfbba914... 100% ▕▏ 1.1 GB                         \u001b[K\n",
                  "pulling 369ca498f347... 100% ▕▏  387 B                         \u001b[K\n",
                  "pulling f4d24e9138dd... 100% ▕▏  148 B                         \u001b[K\u001b[?25h\u001b[?2026l"
                ]
              },
              {
                "output_type": "stream",
                "name": "stdout",
                "text": [
                  "\u001b[?2026h\u001b[?25l\u001b[A\u001b[A\u001b[A\u001b[1Gpulling manifest \u001b[K\n",
                  "pulling 6e85dfbba914... 100% ▕▏ 1.1 GB                         \u001b[K\n",
                  "pulling 369ca498f347... 100% ▕▏  387 B                         \u001b[K\n",
                  "pulling f4d24e9138dd... 100% ▕▏  148 B                         \u001b[K\u001b[?25h\u001b[?2026l\u001b[?2026h\u001b[?25l\u001b[A\u001b[A\u001b[A\u001b[1Gpulling manifest \u001b[K\n",
                  "pulling 6e85dfbba914... 100% ▕▏ 1.1 GB                         \u001b[K\n",
                  "pulling 369ca498f347... 100% ▕▏  387 B                         \u001b[K\n",
                  "pulling f4d24e9138dd... 100% ▕▏  148 B                         \u001b[K\u001b[?25h\u001b[?2026l"
                ]
              },
              {
                "output_type": "stream",
                "name": "stdout",
                "text": [
                  "\u001b[?2026h\u001b[?25l\u001b[A\u001b[A\u001b[A\u001b[1Gpulling manifest \u001b[K\n",
                  "pulling 6e85dfbba914... 100% ▕▏ 1.1 GB                         \u001b[K\n",
                  "pulling 369ca498f347... 100% ▕▏  387 B                         \u001b[K\n",
                  "pulling f4d24e9138dd... 100% ▕▏  148 B                         \u001b[K\u001b[?25h\u001b[?2026l\u001b[?2026h\u001b[?25l\u001b[A\u001b[A\u001b[A\u001b[1Gpulling manifest \u001b[K\n",
                  "pulling 6e85dfbba914... 100% ▕▏ 1.1 GB                         \u001b[K\n",
                  "pulling 369ca498f347... 100% ▕▏  387 B                         \u001b[K\n",
                  "pulling f4d24e9138dd... 100% ▕▏  148 B                         \u001b[K\n",
                  "pulling 5619be159280...   0% ▕▏    0 B/ 413 B                  \u001b[K\u001b[?25h\u001b[?2026l\u001b[?2026h\u001b[?25l\u001b[A\u001b[A\u001b[A\u001b[A\u001b[1Gpulling manifest \u001b[K\n",
                  "pulling 6e85dfbba914... 100% ▕▏ 1.1 GB                         \u001b[K\n",
                  "pulling 369ca498f347... 100% ▕▏  387 B                         \u001b[K\n",
                  "pulling f4d24e9138dd... 100% ▕▏  148 B                         \u001b[K\n",
                  "pulling 5619be159280...   0% ▕▏    0 B/ 413 B                  \u001b[K\u001b[?25h\u001b[?2026l"
                ]
              },
              {
                "output_type": "stream",
                "name": "stdout",
                "text": [
                  "\u001b[?2026h\u001b[?25l\u001b[A\u001b[A\u001b[A\u001b[A\u001b[1Gpulling manifest \u001b[K\n",
                  "pulling 6e85dfbba914... 100% ▕▏ 1.1 GB                         \u001b[K\n",
                  "pulling 369ca498f347... 100% ▕▏  387 B                         \u001b[K\n",
                  "pulling f4d24e9138dd... 100% ▕▏  148 B                         \u001b[K\n",
                  "pulling 5619be159280...   0% ▕▏    0 B/ 413 B                  \u001b[K\u001b[?25h\u001b[?2026l\u001b[?2026h\u001b[?25l\u001b[A\u001b[A\u001b[A\u001b[A\u001b[1Gpulling manifest \u001b[K\n",
                  "pulling 6e85dfbba914... 100% ▕▏ 1.1 GB                         \u001b[K\n",
                  "pulling 369ca498f347... 100% ▕▏  387 B                         \u001b[K\n",
                  "pulling f4d24e9138dd... 100% ▕▏  148 B                         \u001b[K\n",
                  "pulling 5619be159280... 100% ▕▏  413 B                         \u001b[K\u001b[?25h\u001b[?2026l\u001b[?2026h\u001b[?25l\u001b[A\u001b[A\u001b[A\u001b[A\u001b[1Gpulling manifest \u001b[K\n",
                  "pulling 6e85dfbba914... 100% ▕▏ 1.1 GB                         \u001b[K\n",
                  "pulling 369ca498f347... 100% ▕▏  387 B                         \u001b[K\n",
                  "pulling f4d24e9138dd... 100% ▕▏  148 B                         \u001b[K\n",
                  "pulling 5619be159280... 100% ▕▏  413 B                         \u001b[K\u001b[?25h\u001b[?2026l"
                ]
              },
              {
                "output_type": "stream",
                "name": "stdout",
                "text": [
                  "\u001b[?2026h\u001b[?25l\u001b[A\u001b[A\u001b[A\u001b[A\u001b[1Gpulling manifest \u001b[K\n",
                  "pulling 6e85dfbba914... 100% ▕▏ 1.1 GB                         \u001b[K\n",
                  "pulling 369ca498f347... 100% ▕▏  387 B                         \u001b[K\n",
                  "pulling f4d24e9138dd... 100% ▕▏  148 B                         \u001b[K\n",
                  "pulling 5619be159280... 100% ▕▏  413 B                         \u001b[K\u001b[?25h\u001b[?2026l\u001b[?2026h\u001b[?25l\u001b[A\u001b[A\u001b[A\u001b[A\u001b[1Gpulling manifest \u001b[K\n",
                  "pulling 6e85dfbba914... 100% ▕▏ 1.1 GB                         \u001b[K\n",
                  "pulling 369ca498f347... 100% ▕▏  387 B                         \u001b[K\n",
                  "pulling f4d24e9138dd... 100% ▕▏  148 B                         \u001b[K\n",
                  "pulling 5619be159280... 100% ▕▏  413 B                         \u001b[K\u001b[?25h\u001b[?2026l"
                ]
              },
              {
                "output_type": "stream",
                "name": "stdout",
                "text": [
                  "\u001b[?2026h\u001b[?25l\u001b[A\u001b[A\u001b[A\u001b[A\u001b[1Gpulling manifest \u001b[K\n",
                  "pulling 6e85dfbba914... 100% ▕▏ 1.1 GB                         \u001b[K\n",
                  "pulling 369ca498f347... 100% ▕▏  387 B                         \u001b[K\n",
                  "pulling f4d24e9138dd... 100% ▕▏  148 B                         \u001b[K\n",
                  "pulling 5619be159280... 100% ▕▏  413 B                         \u001b[K\u001b[?25h\u001b[?2026l\u001b[?2026h\u001b[?25l\u001b[A\u001b[A\u001b[A\u001b[A\u001b[1Gpulling manifest \u001b[K\n",
                  "pulling 6e85dfbba914... 100% ▕▏ 1.1 GB                         \u001b[K\n",
                  "pulling 369ca498f347... 100% ▕▏  387 B                         \u001b[K\n",
                  "pulling f4d24e9138dd... 100% ▕▏  148 B                         \u001b[K\n",
                  "pulling 5619be159280... 100% ▕▏  413 B                         \u001b[K\u001b[?25h\u001b[?2026l"
                ]
              },
              {
                "output_type": "stream",
                "name": "stdout",
                "text": [
                  "\u001b[?2026h\u001b[?25l\u001b[A\u001b[A\u001b[A\u001b[A\u001b[1Gpulling manifest \u001b[K\n",
                  "pulling 6e85dfbba914... 100% ▕▏ 1.1 GB                         \u001b[K\n",
                  "pulling 369ca498f347... 100% ▕▏  387 B                         \u001b[K\n",
                  "pulling f4d24e9138dd... 100% ▕▏  148 B                         \u001b[K\n",
                  "pulling 5619be159280... 100% ▕▏  413 B                         \u001b[K\u001b[?25h\u001b[?2026l\u001b[?2026h\u001b[?25l\u001b[A\u001b[A\u001b[A\u001b[A\u001b[1Gpulling manifest \u001b[K\n",
                  "pulling 6e85dfbba914... 100% ▕▏ 1.1 GB                         \u001b[K\n",
                  "pulling 369ca498f347... 100% ▕▏  387 B                         \u001b[K\n",
                  "pulling f4d24e9138dd... 100% ▕▏  148 B                         \u001b[K\n",
                  "pulling 5619be159280... 100% ▕▏  413 B                         \u001b[K\n",
                  "verifying sha256 digest ⠋ \u001b[K\u001b[?25h\u001b[?2026l\u001b[?2026h\u001b[?25l\u001b[A\u001b[A\u001b[A\u001b[A\u001b[A\u001b[1Gpulling manifest \u001b[K\n",
                  "pulling 6e85dfbba914... 100% ▕▏ 1.1 GB                         \u001b[K\n",
                  "pulling 369ca498f347... 100% ▕▏  387 B                         \u001b[K\n",
                  "pulling f4d24e9138dd... 100% ▕▏  148 B                         \u001b[K\n",
                  "pulling 5619be159280... 100% ▕▏  413 B                         \u001b[K\n",
                  "verifying sha256 digest ⠙ \u001b[K\u001b[?25h\u001b[?2026l"
                ]
              },
              {
                "output_type": "stream",
                "name": "stdout",
                "text": [
                  "\u001b[?2026h\u001b[?25l\u001b[A\u001b[A\u001b[A\u001b[A\u001b[A\u001b[1Gpulling manifest \u001b[K\n",
                  "pulling 6e85dfbba914... 100% ▕▏ 1.1 GB                         \u001b[K\n",
                  "pulling 369ca498f347... 100% ▕▏  387 B                         \u001b[K\n",
                  "pulling f4d24e9138dd... 100% ▕▏  148 B                         \u001b[K\n",
                  "pulling 5619be159280... 100% ▕▏  413 B                         \u001b[K\n",
                  "verifying sha256 digest ⠹ \u001b[K\u001b[?25h\u001b[?2026l\u001b[?2026h\u001b[?25l\u001b[A\u001b[A\u001b[A\u001b[A\u001b[A\u001b[1Gpulling manifest \u001b[K\n",
                  "pulling 6e85dfbba914... 100% ▕▏ 1.1 GB                         \u001b[K\n",
                  "pulling 369ca498f347... 100% ▕▏  387 B                         \u001b[K\n",
                  "pulling f4d24e9138dd... 100% ▕▏  148 B                         \u001b[K\n",
                  "pulling 5619be159280... 100% ▕▏  413 B                         \u001b[K\n",
                  "verifying sha256 digest ⠹ \u001b[K\u001b[?25h\u001b[?2026l"
                ]
              },
              {
                "output_type": "stream",
                "name": "stdout",
                "text": [
                  "\u001b[?2026h\u001b[?25l\u001b[A\u001b[A\u001b[A\u001b[A\u001b[A\u001b[1Gpulling manifest \u001b[K\n",
                  "pulling 6e85dfbba914... 100% ▕▏ 1.1 GB                         \u001b[K\n",
                  "pulling 369ca498f347... 100% ▕▏  387 B                         \u001b[K\n",
                  "pulling f4d24e9138dd... 100% ▕▏  148 B                         \u001b[K\n",
                  "pulling 5619be159280... 100% ▕▏  413 B                         \u001b[K\n",
                  "verifying sha256 digest ⠼ \u001b[K\u001b[?25h\u001b[?2026l\u001b[?2026h\u001b[?25l\u001b[A\u001b[A\u001b[A\u001b[A\u001b[A\u001b[1Gpulling manifest \u001b[K\n",
                  "pulling 6e85dfbba914... 100% ▕▏ 1.1 GB                         \u001b[K\n",
                  "pulling 369ca498f347... 100% ▕▏  387 B                         \u001b[K\n",
                  "pulling f4d24e9138dd... 100% ▕▏  148 B                         \u001b[K\n",
                  "pulling 5619be159280... 100% ▕▏  413 B                         \u001b[K\n",
                  "verifying sha256 digest ⠴ \u001b[K\u001b[?25h\u001b[?2026l\u001b[?2026h\u001b[?25l\u001b[A\u001b[A\u001b[A\u001b[A\u001b[A\u001b[1Gpulling manifest \u001b[K\n",
                  "pulling 6e85dfbba914... 100% ▕▏ 1.1 GB                         \u001b[K\n",
                  "pulling 369ca498f347... 100% ▕▏  387 B                         \u001b[K\n",
                  "pulling f4d24e9138dd... 100% ▕▏  148 B                         \u001b[K\n",
                  "pulling 5619be159280... 100% ▕▏  413 B                         \u001b[K\n",
                  "verifying sha256 digest ⠴ \u001b[K\u001b[?25h\u001b[?2026l"
                ]
              },
              {
                "output_type": "stream",
                "name": "stdout",
                "text": [
                  "\u001b[?2026h\u001b[?25l\u001b[A\u001b[A\u001b[A\u001b[A\u001b[A\u001b[1Gpulling manifest \u001b[K\n",
                  "pulling 6e85dfbba914... 100% ▕▏ 1.1 GB                         \u001b[K\n",
                  "pulling 369ca498f347... 100% ▕▏  387 B                         \u001b[K\n",
                  "pulling f4d24e9138dd... 100% ▕▏  148 B                         \u001b[K\n",
                  "pulling 5619be159280... 100% ▕▏  413 B                         \u001b[K\n",
                  "verifying sha256 digest ⠧ \u001b[K\u001b[?25h\u001b[?2026l\u001b[?2026h\u001b[?25l\u001b[A\u001b[A\u001b[A\u001b[A\u001b[A\u001b[1Gpulling manifest \u001b[K\n",
                  "pulling 6e85dfbba914... 100% ▕▏ 1.1 GB                         \u001b[K\n",
                  "pulling 369ca498f347... 100% ▕▏  387 B                         \u001b[K\n",
                  "pulling f4d24e9138dd... 100% ▕▏  148 B                         \u001b[K\n",
                  "pulling 5619be159280... 100% ▕▏  413 B                         \u001b[K\n",
                  "verifying sha256 digest ⠇ \u001b[K\u001b[?25h\u001b[?2026l"
                ]
              },
              {
                "output_type": "stream",
                "name": "stdout",
                "text": [
                  "\u001b[?2026h\u001b[?25l\u001b[A\u001b[A\u001b[A\u001b[A\u001b[A\u001b[1Gpulling manifest \u001b[K\n",
                  "pulling 6e85dfbba914... 100% ▕▏ 1.1 GB                         \u001b[K\n",
                  "pulling 369ca498f347... 100% ▕▏  387 B                         \u001b[K\n",
                  "pulling f4d24e9138dd... 100% ▕▏  148 B                         \u001b[K\n",
                  "pulling 5619be159280... 100% ▕▏  413 B                         \u001b[K\n",
                  "verifying sha256 digest ⠇ \u001b[K\u001b[?25h\u001b[?2026l\u001b[?2026h\u001b[?25l\u001b[A\u001b[A\u001b[A\u001b[A\u001b[A\u001b[1Gpulling manifest \u001b[K\n",
                  "pulling 6e85dfbba914... 100% ▕▏ 1.1 GB                         \u001b[K\n",
                  "pulling 369ca498f347... 100% ▕▏  387 B                         \u001b[K\n",
                  "pulling f4d24e9138dd... 100% ▕▏  148 B                         \u001b[K\n",
                  "pulling 5619be159280... 100% ▕▏  413 B                         \u001b[K\n",
                  "verifying sha256 digest ⠋ \u001b[K\u001b[?25h\u001b[?2026l\u001b[?2026h\u001b[?25l\u001b[A\u001b[A\u001b[A\u001b[A\u001b[A\u001b[1Gpulling manifest \u001b[K\n",
                  "pulling 6e85dfbba914... 100% ▕▏ 1.1 GB                         \u001b[K\n",
                  "pulling 369ca498f347... 100% ▕▏  387 B                         \u001b[K\n",
                  "pulling f4d24e9138dd... 100% ▕▏  148 B                         \u001b[K\n",
                  "pulling 5619be159280... 100% ▕▏  413 B                         \u001b[K\n",
                  "verifying sha256 digest ⠙ \u001b[K\u001b[?25h\u001b[?2026l"
                ]
              },
              {
                "output_type": "stream",
                "name": "stdout",
                "text": [
                  "\u001b[?2026h\u001b[?25l\u001b[A\u001b[A\u001b[A\u001b[A\u001b[A\u001b[1Gpulling manifest \u001b[K\n",
                  "pulling 6e85dfbba914... 100% ▕▏ 1.1 GB                         \u001b[K\n",
                  "pulling 369ca498f347... 100% ▕▏  387 B                         \u001b[K\n",
                  "pulling f4d24e9138dd... 100% ▕▏  148 B                         \u001b[K\n",
                  "pulling 5619be159280... 100% ▕▏  413 B                         \u001b[K\n",
                  "verifying sha256 digest ⠙ \u001b[K\u001b[?25h\u001b[?2026l\u001b[?2026h\u001b[?25l\u001b[A\u001b[A\u001b[A\u001b[A\u001b[A\u001b[1Gpulling manifest \u001b[K\n",
                  "pulling 6e85dfbba914... 100% ▕▏ 1.1 GB                         \u001b[K\n",
                  "pulling 369ca498f347... 100% ▕▏  387 B                         \u001b[K\n",
                  "pulling f4d24e9138dd... 100% ▕▏  148 B                         \u001b[K\n",
                  "pulling 5619be159280... 100% ▕▏  413 B                         \u001b[K\n",
                  "verifying sha256 digest ⠸ \u001b[K\u001b[?25h\u001b[?2026l"
                ]
              },
              {
                "output_type": "stream",
                "name": "stdout",
                "text": [
                  "\u001b[?2026h\u001b[?25l\u001b[A\u001b[A\u001b[A\u001b[A\u001b[A\u001b[1Gpulling manifest \u001b[K\n",
                  "pulling 6e85dfbba914... 100% ▕▏ 1.1 GB                         \u001b[K\n",
                  "pulling 369ca498f347... 100% ▕▏  387 B                         \u001b[K\n",
                  "pulling f4d24e9138dd... 100% ▕▏  148 B                         \u001b[K\n",
                  "pulling 5619be159280... 100% ▕▏  413 B                         \u001b[K\n",
                  "verifying sha256 digest ⠸ \u001b[K\u001b[?25h\u001b[?2026l\u001b[?2026h\u001b[?25l\u001b[A\u001b[A\u001b[A\u001b[A\u001b[A\u001b[1Gpulling manifest \u001b[K\n",
                  "pulling 6e85dfbba914... 100% ▕▏ 1.1 GB                         \u001b[K\n",
                  "pulling 369ca498f347... 100% ▕▏  387 B                         \u001b[K\n",
                  "pulling f4d24e9138dd... 100% ▕▏  148 B                         \u001b[K\n",
                  "pulling 5619be159280... 100% ▕▏  413 B                         \u001b[K\n",
                  "verifying sha256 digest ⠼ \u001b[K\u001b[?25h\u001b[?2026l"
                ]
              },
              {
                "output_type": "stream",
                "name": "stdout",
                "text": [
                  "\u001b[?2026h\u001b[?25l\u001b[A\u001b[A\u001b[A\u001b[A\u001b[A\u001b[1Gpulling manifest \u001b[K\n",
                  "pulling 6e85dfbba914... 100% ▕▏ 1.1 GB                         \u001b[K\n",
                  "pulling 369ca498f347... 100% ▕▏  387 B                         \u001b[K\n",
                  "pulling f4d24e9138dd... 100% ▕▏  148 B                         \u001b[K\n",
                  "pulling 5619be159280... 100% ▕▏  413 B                         \u001b[K\n",
                  "verifying sha256 digest ⠦ \u001b[K\u001b[?25h\u001b[?2026l\u001b[?2026h\u001b[?25l\u001b[A\u001b[A\u001b[A\u001b[A\u001b[A\u001b[1Gpulling manifest \u001b[K\n",
                  "pulling 6e85dfbba914... 100% ▕▏ 1.1 GB                         \u001b[K\n",
                  "pulling 369ca498f347... 100% ▕▏  387 B                         \u001b[K\n",
                  "pulling f4d24e9138dd... 100% ▕▏  148 B                         \u001b[K\n",
                  "pulling 5619be159280... 100% ▕▏  413 B                         \u001b[K\n",
                  "verifying sha256 digest ⠧ \u001b[K\u001b[?25h\u001b[?2026l\u001b[?2026h\u001b[?25l\u001b[A\u001b[A\u001b[A\u001b[A\u001b[A\u001b[1Gpulling manifest \u001b[K\n",
                  "pulling 6e85dfbba914... 100% ▕▏ 1.1 GB                         \u001b[K\n",
                  "pulling 369ca498f347... 100% ▕▏  387 B                         \u001b[K\n",
                  "pulling f4d24e9138dd... 100% ▕▏  148 B                         \u001b[K\n",
                  "pulling 5619be159280... 100% ▕▏  413 B                         \u001b[K\n",
                  "verifying sha256 digest ⠧ \u001b[K\u001b[?25h\u001b[?2026l"
                ]
              },
              {
                "output_type": "stream",
                "name": "stdout",
                "text": [
                  "\u001b[?2026h\u001b[?25l\u001b[A\u001b[A\u001b[A\u001b[A\u001b[A\u001b[1Gpulling manifest \u001b[K\n",
                  "pulling 6e85dfbba914... 100% ▕▏ 1.1 GB                         \u001b[K\n",
                  "pulling 369ca498f347... 100% ▕▏  387 B                         \u001b[K\n",
                  "pulling f4d24e9138dd... 100% ▕▏  148 B                         \u001b[K\n",
                  "pulling 5619be159280... 100% ▕▏  413 B                         \u001b[K\n",
                  "verifying sha256 digest ⠏ \u001b[K\u001b[?25h\u001b[?2026l\u001b[?2026h\u001b[?25l\u001b[A\u001b[A\u001b[A\u001b[A\u001b[A\u001b[1Gpulling manifest \u001b[K\n",
                  "pulling 6e85dfbba914... 100% ▕▏ 1.1 GB                         \u001b[K\n",
                  "pulling 369ca498f347... 100% ▕▏  387 B                         \u001b[K\n",
                  "pulling f4d24e9138dd... 100% ▕▏  148 B                         \u001b[K\n",
                  "pulling 5619be159280... 100% ▕▏  413 B                         \u001b[K\n",
                  "verifying sha256 digest ⠋ \u001b[K\u001b[?25h\u001b[?2026l\u001b[?2026h\u001b[?25l\u001b[A\u001b[A\u001b[A\u001b[A\u001b[A\u001b[1Gpulling manifest \u001b[K\n",
                  "pulling 6e85dfbba914... 100% ▕▏ 1.1 GB                         \u001b[K\n",
                  "pulling 369ca498f347... 100% ▕▏  387 B                         \u001b[K\n",
                  "pulling f4d24e9138dd... 100% ▕▏  148 B                         \u001b[K\n",
                  "pulling 5619be159280... 100% ▕▏  413 B                         \u001b[K\n",
                  "verifying sha256 digest ⠋ \u001b[K\u001b[?25h\u001b[?2026l"
                ]
              },
              {
                "output_type": "stream",
                "name": "stdout",
                "text": [
                  "\u001b[?2026h\u001b[?25l\u001b[A\u001b[A\u001b[A\u001b[A\u001b[A\u001b[1Gpulling manifest \u001b[K\n",
                  "pulling 6e85dfbba914... 100% ▕▏ 1.1 GB                         \u001b[K\n",
                  "pulling 369ca498f347... 100% ▕▏  387 B                         \u001b[K\n",
                  "pulling f4d24e9138dd... 100% ▕▏  148 B                         \u001b[K\n",
                  "pulling 5619be159280... 100% ▕▏  413 B                         \u001b[K\n",
                  "verifying sha256 digest ⠹ \u001b[K\u001b[?25h\u001b[?2026l\u001b[?2026h\u001b[?25l\u001b[A\u001b[A\u001b[A\u001b[A\u001b[A\u001b[1Gpulling manifest \u001b[K\n",
                  "pulling 6e85dfbba914... 100% ▕▏ 1.1 GB                         \u001b[K\n",
                  "pulling 369ca498f347... 100% ▕▏  387 B                         \u001b[K\n",
                  "pulling f4d24e9138dd... 100% ▕▏  148 B                         \u001b[K\n",
                  "pulling 5619be159280... 100% ▕▏  413 B                         \u001b[K\n",
                  "verifying sha256 digest ⠸ \u001b[K\u001b[?25h\u001b[?2026l"
                ]
              },
              {
                "output_type": "stream",
                "name": "stdout",
                "text": [
                  "\u001b[?2026h\u001b[?25l\u001b[A\u001b[A\u001b[A\u001b[A\u001b[A\u001b[1Gpulling manifest \u001b[K\n",
                  "pulling 6e85dfbba914... 100% ▕▏ 1.1 GB                         \u001b[K\n",
                  "pulling 369ca498f347... 100% ▕▏  387 B                         \u001b[K\n",
                  "pulling f4d24e9138dd... 100% ▕▏  148 B                         \u001b[K\n",
                  "pulling 5619be159280... 100% ▕▏  413 B                         \u001b[K\n",
                  "verifying sha256 digest ⠼ \u001b[K\u001b[?25h\u001b[?2026l\u001b[?2026h\u001b[?25l\u001b[A\u001b[A\u001b[A\u001b[A\u001b[A\u001b[1Gpulling manifest \u001b[K\n",
                  "pulling 6e85dfbba914... 100% ▕▏ 1.1 GB                         \u001b[K\n",
                  "pulling 369ca498f347... 100% ▕▏  387 B                         \u001b[K\n",
                  "pulling f4d24e9138dd... 100% ▕▏  148 B                         \u001b[K\n",
                  "pulling 5619be159280... 100% ▕▏  413 B                         \u001b[K\n",
                  "verifying sha256 digest ⠴ \u001b[K\u001b[?25h\u001b[?2026l"
                ]
              },
              {
                "output_type": "stream",
                "name": "stdout",
                "text": [
                  "\u001b[?2026h\u001b[?25l\u001b[A\u001b[A\u001b[A\u001b[A\u001b[A\u001b[1Gpulling manifest \u001b[K\n",
                  "pulling 6e85dfbba914... 100% ▕▏ 1.1 GB                         \u001b[K\n",
                  "pulling 369ca498f347... 100% ▕▏  387 B                         \u001b[K\n",
                  "pulling f4d24e9138dd... 100% ▕▏  148 B                         \u001b[K\n",
                  "pulling 5619be159280... 100% ▕▏  413 B                         \u001b[K\n",
                  "verifying sha256 digest ⠴ \u001b[K\u001b[?25h\u001b[?2026l\u001b[?2026h\u001b[?25l\u001b[A\u001b[A\u001b[A\u001b[A\u001b[A\u001b[1Gpulling manifest \u001b[K\n",
                  "pulling 6e85dfbba914... 100% ▕▏ 1.1 GB                         \u001b[K\n",
                  "pulling 369ca498f347... 100% ▕▏  387 B                         \u001b[K\n",
                  "pulling f4d24e9138dd... 100% ▕▏  148 B                         \u001b[K\n",
                  "pulling 5619be159280... 100% ▕▏  413 B                         \u001b[K\n",
                  "verifying sha256 digest ⠧ \u001b[K\u001b[?25h\u001b[?2026l\u001b[?2026h\u001b[?25l\u001b[A\u001b[A\u001b[A\u001b[A\u001b[A\u001b[1Gpulling manifest \u001b[K\n",
                  "pulling 6e85dfbba914... 100% ▕▏ 1.1 GB                         \u001b[K\n",
                  "pulling 369ca498f347... 100% ▕▏  387 B                         \u001b[K\n",
                  "pulling f4d24e9138dd... 100% ▕▏  148 B                         \u001b[K\n",
                  "pulling 5619be159280... 100% ▕▏  413 B                         \u001b[K\n",
                  "verifying sha256 digest ⠧ \u001b[K\u001b[?25h\u001b[?2026l"
                ]
              },
              {
                "output_type": "stream",
                "name": "stdout",
                "text": [
                  "\u001b[?2026h\u001b[?25l\u001b[A\u001b[A\u001b[A\u001b[A\u001b[A\u001b[1Gpulling manifest \u001b[K\n",
                  "pulling 6e85dfbba914... 100% ▕▏ 1.1 GB                         \u001b[K\n",
                  "pulling 369ca498f347... 100% ▕▏  387 B                         \u001b[K\n",
                  "pulling f4d24e9138dd... 100% ▕▏  148 B                         \u001b[K\n",
                  "pulling 5619be159280... 100% ▕▏  413 B                         \u001b[K\n",
                  "verifying sha256 digest ⠏ \u001b[K\u001b[?25h\u001b[?2026l\u001b[?2026h\u001b[?25l\u001b[A\u001b[A\u001b[A\u001b[A\u001b[A\u001b[1Gpulling manifest \u001b[K\n",
                  "pulling 6e85dfbba914... 100% ▕▏ 1.1 GB                         \u001b[K\n",
                  "pulling 369ca498f347... 100% ▕▏  387 B                         \u001b[K\n",
                  "pulling f4d24e9138dd... 100% ▕▏  148 B                         \u001b[K\n",
                  "pulling 5619be159280... 100% ▕▏  413 B                         \u001b[K\n",
                  "verifying sha256 digest ⠋ \u001b[K\u001b[?25h\u001b[?2026l\u001b[?2026h\u001b[?25l\u001b[A\u001b[A\u001b[A\u001b[A\u001b[A\u001b[1Gpulling manifest \u001b[K\n",
                  "pulling 6e85dfbba914... 100% ▕▏ 1.1 GB                         \u001b[K\n",
                  "pulling 369ca498f347... 100% ▕▏  387 B                         \u001b[K\n",
                  "pulling f4d24e9138dd... 100% ▕▏  148 B                         \u001b[K\n",
                  "pulling 5619be159280... 100% ▕▏  413 B                         \u001b[K\n",
                  "verifying sha256 digest ⠋ \u001b[K\u001b[?25h\u001b[?2026l"
                ]
              },
              {
                "output_type": "stream",
                "name": "stdout",
                "text": [
                  "\u001b[?2026h\u001b[?25l\u001b[A\u001b[A\u001b[A\u001b[A\u001b[A\u001b[1Gpulling manifest \u001b[K\n",
                  "pulling 6e85dfbba914... 100% ▕▏ 1.1 GB                         \u001b[K\n",
                  "pulling 369ca498f347... 100% ▕▏  387 B                         \u001b[K\n",
                  "pulling f4d24e9138dd... 100% ▕▏  148 B                         \u001b[K\n",
                  "pulling 5619be159280... 100% ▕▏  413 B                         \u001b[K\n",
                  "verifying sha256 digest ⠹ \u001b[K\u001b[?25h\u001b[?2026l\u001b[?2026h\u001b[?25l\u001b[A\u001b[A\u001b[A\u001b[A\u001b[A\u001b[1Gpulling manifest \u001b[K\n",
                  "pulling 6e85dfbba914... 100% ▕▏ 1.1 GB                         \u001b[K\n",
                  "pulling 369ca498f347... 100% ▕▏  387 B                         \u001b[K\n",
                  "pulling f4d24e9138dd... 100% ▕▏  148 B                         \u001b[K\n",
                  "pulling 5619be159280... 100% ▕▏  413 B                         \u001b[K\n",
                  "verifying sha256 digest ⠸ \u001b[K\u001b[?25h\u001b[?2026l"
                ]
              },
              {
                "output_type": "stream",
                "name": "stdout",
                "text": [
                  "\u001b[?2026h\u001b[?25l\u001b[A\u001b[A\u001b[A\u001b[A\u001b[A\u001b[1Gpulling manifest \u001b[K\n",
                  "pulling 6e85dfbba914... 100% ▕▏ 1.1 GB                         \u001b[K\n",
                  "pulling 369ca498f347... 100% ▕▏  387 B                         \u001b[K\n",
                  "pulling f4d24e9138dd... 100% ▕▏  148 B                         \u001b[K\n",
                  "pulling 5619be159280... 100% ▕▏  413 B                         \u001b[K\n",
                  "verifying sha256 digest ⠸ \u001b[K\u001b[?25h\u001b[?2026l\u001b[?2026h\u001b[?25l\u001b[A\u001b[A\u001b[A\u001b[A\u001b[A\u001b[1Gpulling manifest \u001b[K\n",
                  "pulling 6e85dfbba914... 100% ▕▏ 1.1 GB                         \u001b[K\n",
                  "pulling 369ca498f347... 100% ▕▏  387 B                         \u001b[K\n",
                  "pulling f4d24e9138dd... 100% ▕▏  148 B                         \u001b[K\n",
                  "pulling 5619be159280... 100% ▕▏  413 B                         \u001b[K\n",
                  "verifying sha256 digest ⠴ \u001b[K\u001b[?25h\u001b[?2026l\u001b[?2026h\u001b[?25l\u001b[A\u001b[A\u001b[A\u001b[A\u001b[A\u001b[1Gpulling manifest \u001b[K\n",
                  "pulling 6e85dfbba914... 100% ▕▏ 1.1 GB                         \u001b[K\n",
                  "pulling 369ca498f347... 100% ▕▏  387 B                         \u001b[K\n",
                  "pulling f4d24e9138dd... 100% ▕▏  148 B                         \u001b[K\n",
                  "pulling 5619be159280... 100% ▕▏  413 B                         \u001b[K\n",
                  "verifying sha256 digest ⠦ \u001b[K\u001b[?25h\u001b[?2026l"
                ]
              },
              {
                "output_type": "stream",
                "name": "stdout",
                "text": [
                  "\u001b[?2026h\u001b[?25l\u001b[A\u001b[A\u001b[A\u001b[A\u001b[A\u001b[1Gpulling manifest \u001b[K\n",
                  "pulling 6e85dfbba914... 100% ▕▏ 1.1 GB                         \u001b[K\n",
                  "pulling 369ca498f347... 100% ▕▏  387 B                         \u001b[K\n",
                  "pulling f4d24e9138dd... 100% ▕▏  148 B                         \u001b[K\n",
                  "pulling 5619be159280... 100% ▕▏  413 B                         \u001b[K\n",
                  "verifying sha256 digest ⠦ \u001b[K\u001b[?25h\u001b[?2026l\u001b[?2026h\u001b[?25l\u001b[A\u001b[A\u001b[A\u001b[A\u001b[A\u001b[1Gpulling manifest \u001b[K\n",
                  "pulling 6e85dfbba914... 100% ▕▏ 1.1 GB                         \u001b[K\n",
                  "pulling 369ca498f347... 100% ▕▏  387 B                         \u001b[K\n",
                  "pulling f4d24e9138dd... 100% ▕▏  148 B                         \u001b[K\n",
                  "pulling 5619be159280... 100% ▕▏  413 B                         \u001b[K\n",
                  "verifying sha256 digest ⠇ \u001b[K\u001b[?25h\u001b[?2026l"
                ]
              },
              {
                "output_type": "stream",
                "name": "stdout",
                "text": [
                  "\u001b[?2026h\u001b[?25l\u001b[A\u001b[A\u001b[A\u001b[A\u001b[A\u001b[1Gpulling manifest \u001b[K\n",
                  "pulling 6e85dfbba914... 100% ▕▏ 1.1 GB                         \u001b[K\n",
                  "pulling 369ca498f347... 100% ▕▏  387 B                         \u001b[K\n",
                  "pulling f4d24e9138dd... 100% ▕▏  148 B                         \u001b[K\n",
                  "pulling 5619be159280... 100% ▕▏  413 B                         \u001b[K\n",
                  "verifying sha256 digest ⠏ \u001b[K\u001b[?25h\u001b[?2026l\u001b[?2026h\u001b[?25l\u001b[A\u001b[A\u001b[A\u001b[A\u001b[A\u001b[1Gpulling manifest \u001b[K\n",
                  "pulling 6e85dfbba914... 100% ▕▏ 1.1 GB                         \u001b[K\n",
                  "pulling 369ca498f347... 100% ▕▏  387 B                         \u001b[K\n",
                  "pulling f4d24e9138dd... 100% ▕▏  148 B                         \u001b[K\n",
                  "pulling 5619be159280... 100% ▕▏  413 B                         \u001b[K\n",
                  "verifying sha256 digest ⠏ \u001b[K\u001b[?25h\u001b[?2026l"
                ]
              },
              {
                "output_type": "stream",
                "name": "stdout",
                "text": [
                  "\u001b[?2026h\u001b[?25l\u001b[A\u001b[A\u001b[A\u001b[A\u001b[A\u001b[1Gpulling manifest \u001b[K\n",
                  "pulling 6e85dfbba914... 100% ▕▏ 1.1 GB                         \u001b[K\n",
                  "pulling 369ca498f347... 100% ▕▏  387 B                         \u001b[K\n",
                  "pulling f4d24e9138dd... 100% ▕▏  148 B                         \u001b[K\n",
                  "pulling 5619be159280... 100% ▕▏  413 B                         \u001b[K\n",
                  "verifying sha256 digest ⠙ \u001b[K\u001b[?25h\u001b[?2026l\u001b[?2026h\u001b[?25l\u001b[A\u001b[A\u001b[A\u001b[A\u001b[A\u001b[1Gpulling manifest \u001b[K\n",
                  "pulling 6e85dfbba914... 100% ▕▏ 1.1 GB                         \u001b[K\n",
                  "pulling 369ca498f347... 100% ▕▏  387 B                         \u001b[K\n",
                  "pulling f4d24e9138dd... 100% ▕▏  148 B                         \u001b[K\n",
                  "pulling 5619be159280... 100% ▕▏  413 B                         \u001b[K\n",
                  "verifying sha256 digest ⠹ \u001b[K\u001b[?25h\u001b[?2026l"
                ]
              },
              {
                "output_type": "stream",
                "name": "stdout",
                "text": [
                  "\u001b[?2026h\u001b[?25l\u001b[A\u001b[A\u001b[A\u001b[A\u001b[A\u001b[1Gpulling manifest \u001b[K\n",
                  "pulling 6e85dfbba914... 100% ▕▏ 1.1 GB                         \u001b[K\n",
                  "pulling 369ca498f347... 100% ▕▏  387 B                         \u001b[K\n",
                  "pulling f4d24e9138dd... 100% ▕▏  148 B                         \u001b[K\n",
                  "pulling 5619be159280... 100% ▕▏  413 B                         \u001b[K\n",
                  "verifying sha256 digest ⠹ \u001b[K\u001b[?25h\u001b[?2026l\u001b[?2026h\u001b[?25l\u001b[A\u001b[A\u001b[A\u001b[A\u001b[A\u001b[1Gpulling manifest \u001b[K\n",
                  "pulling 6e85dfbba914... 100% ▕▏ 1.1 GB                         \u001b[K\n",
                  "pulling 369ca498f347... 100% ▕▏  387 B                         \u001b[K\n",
                  "pulling f4d24e9138dd... 100% ▕▏  148 B                         \u001b[K\n",
                  "pulling 5619be159280... 100% ▕▏  413 B                         \u001b[K\n",
                  "verifying sha256 digest ⠼ \u001b[K\u001b[?25h\u001b[?2026l"
                ]
              },
              {
                "output_type": "stream",
                "name": "stdout",
                "text": [
                  "\u001b[?2026h\u001b[?25l\u001b[A\u001b[A\u001b[A\u001b[A\u001b[A\u001b[1Gpulling manifest \u001b[K\n",
                  "pulling 6e85dfbba914... 100% ▕▏ 1.1 GB                         \u001b[K\n",
                  "pulling 369ca498f347... 100% ▕▏  387 B                         \u001b[K\n",
                  "pulling f4d24e9138dd... 100% ▕▏  148 B                         \u001b[K\n",
                  "pulling 5619be159280... 100% ▕▏  413 B                         \u001b[K\n",
                  "verifying sha256 digest ⠴ \u001b[K\u001b[?25h\u001b[?2026l\u001b[?2026h\u001b[?25l\u001b[A\u001b[A\u001b[A\u001b[A\u001b[A\u001b[1Gpulling manifest \u001b[K\n",
                  "pulling 6e85dfbba914... 100% ▕▏ 1.1 GB                         \u001b[K\n",
                  "pulling 369ca498f347... 100% ▕▏  387 B                         \u001b[K\n",
                  "pulling f4d24e9138dd... 100% ▕▏  148 B                         \u001b[K\n",
                  "pulling 5619be159280... 100% ▕▏  413 B                         \u001b[K\n",
                  "verifying sha256 digest ⠴ \u001b[K\u001b[?25h\u001b[?2026l\u001b[?2026h\u001b[?25l\u001b[A\u001b[A\u001b[A\u001b[A\u001b[A\u001b[1Gpulling manifest \u001b[K\n",
                  "pulling 6e85dfbba914... 100% ▕▏ 1.1 GB                         \u001b[K\n",
                  "pulling 369ca498f347... 100% ▕▏  387 B                         \u001b[K\n",
                  "pulling f4d24e9138dd... 100% ▕▏  148 B                         \u001b[K\n",
                  "pulling 5619be159280... 100% ▕▏  413 B                         \u001b[K\n",
                  "verifying sha256 digest ⠧ \u001b[K\u001b[?25h\u001b[?2026l"
                ]
              },
              {
                "output_type": "stream",
                "name": "stdout",
                "text": [
                  "\u001b[?2026h\u001b[?25l\u001b[A\u001b[A\u001b[A\u001b[A\u001b[A\u001b[1Gpulling manifest \u001b[K\n",
                  "pulling 6e85dfbba914... 100% ▕▏ 1.1 GB                         \u001b[K\n",
                  "pulling 369ca498f347... 100% ▕▏  387 B                         \u001b[K\n",
                  "pulling f4d24e9138dd... 100% ▕▏  148 B                         \u001b[K\n",
                  "pulling 5619be159280... 100% ▕▏  413 B                         \u001b[K\n",
                  "verifying sha256 digest ⠇ \u001b[K\u001b[?25h\u001b[?2026l\u001b[?2026h\u001b[?25l\u001b[A\u001b[A\u001b[A\u001b[A\u001b[A\u001b[1Gpulling manifest \u001b[K\n",
                  "pulling 6e85dfbba914... 100% ▕▏ 1.1 GB                         \u001b[K\n",
                  "pulling 369ca498f347... 100% ▕▏  387 B                         \u001b[K\n",
                  "pulling f4d24e9138dd... 100% ▕▏  148 B                         \u001b[K\n",
                  "pulling 5619be159280... 100% ▕▏  413 B                         \u001b[K\n",
                  "verifying sha256 digest \u001b[K\n",
                  "writing manifest \u001b[K\n",
                  "success \u001b[K\u001b[?25h\u001b[?2026l\n"
                ]
              },
              {
                "output_type": "stream",
                "name": "stdout",
                "text": [
                  "\n",
                  "✅ Successfully pulled erwan2/DeepSeek-R1-Distill-Qwen-1.5B and it's ready to use\n"
                ]
              }
            ]
          }
        },
        "3578f8160a2249dbae506295f364ff5a": {
          "model_module": "@jupyter-widgets/base",
          "model_name": "LayoutModel",
          "model_module_version": "1.2.0",
          "state": {
            "_model_module": "@jupyter-widgets/base",
            "_model_module_version": "1.2.0",
            "_model_name": "LayoutModel",
            "_view_count": null,
            "_view_module": "@jupyter-widgets/base",
            "_view_module_version": "1.2.0",
            "_view_name": "LayoutView",
            "align_content": null,
            "align_items": null,
            "align_self": null,
            "border": "1px solid #ddd",
            "bottom": null,
            "display": null,
            "flex": null,
            "flex_flow": null,
            "grid_area": null,
            "grid_auto_columns": null,
            "grid_auto_flow": null,
            "grid_auto_rows": null,
            "grid_column": null,
            "grid_gap": null,
            "grid_row": null,
            "grid_template_areas": null,
            "grid_template_columns": null,
            "grid_template_rows": null,
            "height": null,
            "justify_content": null,
            "justify_items": null,
            "left": null,
            "margin": null,
            "max_height": "300px",
            "max_width": null,
            "min_height": "100px",
            "min_width": null,
            "object_fit": null,
            "object_position": null,
            "order": null,
            "overflow": "auto",
            "overflow_x": null,
            "overflow_y": null,
            "padding": "10px",
            "right": null,
            "top": null,
            "visibility": null,
            "width": "500px"
          }
        }
      }
    }
  },
  "cells": [
    {
      "cell_type": "markdown",
      "metadata": {
        "id": "view-in-github",
        "colab_type": "text"
      },
      "source": [
        "<a href=\"https://colab.research.google.com/github/dwerth/colab-llm/blob/main/Ollama_LLM_Sandbox.ipynb\" target=\"_parent\"><img src=\"https://colab.research.google.com/assets/colab-badge.svg\" alt=\"Open In Colab\"/></a>"
      ]
    },
    {
      "cell_type": "markdown",
      "source": [
        "# Ollama in Colab v0.2\n",
        "\n",
        "Notes: select the \"T4 GPU\" from Runtime > Change Runtime Type"
      ],
      "metadata": {
        "id": "4RSE2N_oksAv"
      }
    },
    {
      "cell_type": "code",
      "source": [
        "!ollama --version"
      ],
      "metadata": {
        "colab": {
          "base_uri": "https://localhost:8080/"
        },
        "id": "1xkS9GAgoS-x",
        "outputId": "38669366-69bd-4fd1-e021-f78689014d04"
      },
      "execution_count": null,
      "outputs": [
        {
          "output_type": "stream",
          "name": "stdout",
          "text": [
            "/bin/bash: line 1: ollama: command not found\n"
          ]
        }
      ]
    },
    {
      "cell_type": "code",
      "source": [
        "# only run this if \"!ollama --version\" returns an error, warnings are ok\n",
        "%%capture\n",
        "!apt-get update && apt-get install -y lshw\n",
        "!curl -fsSL https://ollama.com/install.sh | sh"
      ],
      "metadata": {
        "id": "FOYWeATvvHB-"
      },
      "execution_count": null,
      "outputs": []
    },
    {
      "cell_type": "code",
      "source": [
        "!ollama serve > /dev/null 2>&1 &\n",
        "!pip install ollama"
      ],
      "metadata": {
        "colab": {
          "base_uri": "https://localhost:8080/"
        },
        "id": "fjIn8Z-39Ocp",
        "outputId": "2629ff8c-eecf-443c-bf55-d86f4a6b6b62",
        "collapsed": true
      },
      "execution_count": null,
      "outputs": [
        {
          "output_type": "stream",
          "name": "stdout",
          "text": [
            "Collecting ollama\n",
            "  Downloading ollama-0.4.7-py3-none-any.whl.metadata (4.7 kB)\n",
            "Requirement already satisfied: httpx<0.29,>=0.27 in /usr/local/lib/python3.11/dist-packages (from ollama) (0.28.1)\n",
            "Requirement already satisfied: pydantic<3.0.0,>=2.9.0 in /usr/local/lib/python3.11/dist-packages (from ollama) (2.11.1)\n",
            "Requirement already satisfied: anyio in /usr/local/lib/python3.11/dist-packages (from httpx<0.29,>=0.27->ollama) (4.9.0)\n",
            "Requirement already satisfied: certifi in /usr/local/lib/python3.11/dist-packages (from httpx<0.29,>=0.27->ollama) (2025.1.31)\n",
            "Requirement already satisfied: httpcore==1.* in /usr/local/lib/python3.11/dist-packages (from httpx<0.29,>=0.27->ollama) (1.0.7)\n",
            "Requirement already satisfied: idna in /usr/local/lib/python3.11/dist-packages (from httpx<0.29,>=0.27->ollama) (3.10)\n",
            "Requirement already satisfied: h11<0.15,>=0.13 in /usr/local/lib/python3.11/dist-packages (from httpcore==1.*->httpx<0.29,>=0.27->ollama) (0.14.0)\n",
            "Requirement already satisfied: annotated-types>=0.6.0 in /usr/local/lib/python3.11/dist-packages (from pydantic<3.0.0,>=2.9.0->ollama) (0.7.0)\n",
            "Requirement already satisfied: pydantic-core==2.33.0 in /usr/local/lib/python3.11/dist-packages (from pydantic<3.0.0,>=2.9.0->ollama) (2.33.0)\n",
            "Requirement already satisfied: typing-extensions>=4.12.2 in /usr/local/lib/python3.11/dist-packages (from pydantic<3.0.0,>=2.9.0->ollama) (4.13.0)\n",
            "Requirement already satisfied: typing-inspection>=0.4.0 in /usr/local/lib/python3.11/dist-packages (from pydantic<3.0.0,>=2.9.0->ollama) (0.4.0)\n",
            "Requirement already satisfied: sniffio>=1.1 in /usr/local/lib/python3.11/dist-packages (from anyio->httpx<0.29,>=0.27->ollama) (1.3.1)\n",
            "Downloading ollama-0.4.7-py3-none-any.whl (13 kB)\n",
            "Installing collected packages: ollama\n",
            "Successfully installed ollama-0.4.7\n"
          ]
        }
      ]
    },
    {
      "cell_type": "code",
      "source": [
        "import ollama\n",
        "import ipywidgets as widgets\n",
        "from IPython.display import display"
      ],
      "metadata": {
        "id": "_oBAyFnZphrZ"
      },
      "execution_count": null,
      "outputs": []
    },
    {
      "cell_type": "markdown",
      "source": [
        "# run the next cell and then select a model to use"
      ],
      "metadata": {
        "id": "ad6d_2x5-Ab6"
      }
    },
    {
      "cell_type": "code",
      "source": [
        "# @title\n",
        "# Define a list of commonly used Ollama models\n",
        "available_models = [\n",
        "    \"deepseek-r1:1.5b\",\n",
        "    \"gemma3:1b\",\n",
        "    \"granite3.1-moe:1b\",\n",
        "    \"granite3.1-moe:3b\",\n",
        "    \"ollama llama3.2:1b\",\n",
        "    \"phi3\",\n",
        "    \"qwen2.5:0.5b\",\n",
        "    \"qwen2.5:1.5b\",\n",
        "    \"smollm2:1.7b\",\n",
        "    \"smollm2:135m\",\n",
        "    \"tinyllama\",\n",
        "    \"erwan2/DeepSeek-R1-Distill-Qwen-1.5B\"\n",
        "]\n",
        "\n",
        "# Create a dropdown widget for model selection\n",
        "model_dropdown = widgets.Dropdown(\n",
        "    options=available_models,\n",
        "    description='Select model:',\n",
        "    style={'description_width': 'initial'},\n",
        "    layout={'width': '300px'},\n",
        "    disabled=False\n",
        ")\n",
        "\n",
        "# Create a button to pull the selected model\n",
        "pull_button = widgets.Button(\n",
        "    description='Pull and Use Selected Model',\n",
        "    button_style='primary',\n",
        "    tooltip='Click to pull the selected model',\n",
        "    layout={'width': '200px', 'margin': '10px 0'}\n",
        ")\n",
        "\n",
        "# Create an output area for status messages\n",
        "output_area = widgets.Output(\n",
        "    layout={'border': '1px solid #ddd', 'width': '500px', 'min_height': '100px', 'max_height': '300px', 'overflow': 'auto', 'padding': '10px'}\n",
        ")\n",
        "\n",
        "# Define the button click handler\n",
        "def on_pull_button_click(b):\n",
        "    global model_name\n",
        "    model_name = model_dropdown.value\n",
        "    with output_area:\n",
        "        output_area.clear_output()\n",
        "        print(f\"Pulling model: {model_name}\")\n",
        "        print(\"This may take a while depending on the model size...\")\n",
        "        try:\n",
        "            # Execute the ollama pull command\n",
        "            !ollama pull {model_name}\n",
        "            print(f\"\\n✅ Successfully pulled {model_name} and it's ready to use\")\n",
        "        except Exception as e:\n",
        "            print(f\"\\n❌ Error pulling model: {e}\")\n",
        "\n",
        "# Connect the button click handler\n",
        "pull_button.on_click(on_pull_button_click)\n",
        "\n",
        "# Display the widgets\n",
        "print(\"🤖 Ollama Model Puller\")\n",
        "print(\"Select a model from the dropdown and click the button to pull and select it for use.\")\n",
        "display(model_dropdown)\n",
        "display(pull_button)\n",
        "display(output_area)"
      ],
      "metadata": {
        "colab": {
          "base_uri": "https://localhost:8080/",
          "height": 453,
          "referenced_widgets": [
            "837eeeb1ac524d17b175f08136bde7fa",
            "70c119c8440542449c1bcd4b95ca14ef",
            "11ffa4b5b8b74c6d900c5f70be2ea4a1",
            "b4b765af083848deb8c16bea117ab791",
            "e4533b047e4147d7a173abc3f3ce5c29",
            "2b09367b28ad4e53a97cb8fa830d66c6",
            "89d90344c1444391813c5a2a8a268a69",
            "3578f8160a2249dbae506295f364ff5a"
          ]
        },
        "cellView": "form",
        "id": "DPVsUxPIzSdv",
        "outputId": "d0248e78-444f-438e-c2ee-fe92c8faa192"
      },
      "execution_count": null,
      "outputs": [
        {
          "output_type": "stream",
          "name": "stdout",
          "text": [
            "🤖 Ollama Model Puller\n",
            "Select a model from the dropdown and click the button to pull and select it for use.\n"
          ]
        },
        {
          "output_type": "display_data",
          "data": {
            "text/plain": [
              "Dropdown(description='Select model:', layout=Layout(width='300px'), options=('deepseek-r1:1.5b', 'gemma3:1b', …"
            ],
            "application/vnd.jupyter.widget-view+json": {
              "version_major": 2,
              "version_minor": 0,
              "model_id": "837eeeb1ac524d17b175f08136bde7fa"
            }
          },
          "metadata": {}
        },
        {
          "output_type": "display_data",
          "data": {
            "text/plain": [
              "Button(button_style='primary', description='Pull and Use Selected Model', layout=Layout(margin='10px 0', width…"
            ],
            "application/vnd.jupyter.widget-view+json": {
              "version_major": 2,
              "version_minor": 0,
              "model_id": "b4b765af083848deb8c16bea117ab791"
            }
          },
          "metadata": {}
        },
        {
          "output_type": "display_data",
          "data": {
            "text/plain": [
              "Output(layout=Layout(border='1px solid #ddd', max_height='300px', min_height='100px', overflow='auto', padding…"
            ],
            "application/vnd.jupyter.widget-view+json": {
              "version_major": 2,
              "version_minor": 0,
              "model_id": "89d90344c1444391813c5a2a8a268a69"
            }
          },
          "metadata": {}
        }
      ]
    },
    {
      "cell_type": "code",
      "source": [
        "# change to reflect the content of the tile you're interested in using\n",
        "tile_text = \"coffee\"\n",
        "tile_image = \"full cup of coffee\""
      ],
      "metadata": {
        "id": "FvgDqBbwymwb"
      },
      "execution_count": null,
      "outputs": []
    },
    {
      "cell_type": "code",
      "source": [
        "response = ollama.chat(model=model_name, messages=[\n",
        "    {\n",
        "        \"role\": \"system\",\n",
        "        \"content\": (f\"\"\"\n",
        "            You are a helpful assistant generating short phrases\n",
        "            I am person with aphasia using a speach generating device to communicate with another person\n",
        "            I've selected a {tile_text} tile on my device, what might I say to communicate my needs?\n",
        "            \"\"\"\n",
        "        )\n",
        "    },\n",
        "    {\n",
        "        \"role\": \"user\",\n",
        "        \"content\": (f\"\"\"\n",
        "            The {tile_text} tile has a picture of {tile_image}\n",
        "            I want to say something positive about my needs related to {tile_text}\n",
        "            Generate 3 simple phrases for me to select from.\n",
        "            \"\"\"\n",
        "        )\n",
        "    }\n",
        "])\n",
        "print(\"Model:\", model_name, \"\\n\")\n",
        "print(response['message']['content'])"
      ],
      "metadata": {
        "colab": {
          "base_uri": "https://localhost:8080/"
        },
        "id": "QpYaNBzrlkut",
        "outputId": "21aea123-c00b-4118-9259-9f5cc26f6c72"
      },
      "execution_count": null,
      "outputs": [
        {
          "output_type": "stream",
          "name": "stdout",
          "text": [
            "Model: erwan2/DeepSeek-R1-Distill-Qwen-1.5B \n",
            "\n",
            "<think>\n",
            "Okay, so the user mentioned they have aphasia and are using a speech-generating device. They selected a coffee tile on their device, which shows a full cup of coffee in a picture.\n",
            "\n",
            "They want to communicate their needs with another person, so I need to think about positive phrases related to their coffee habits. The goal is simple and easy to understand since they're dealing with aphasia.\n",
            "\n",
            "First, maybe something like \"I enjoy my coffee\" or \"My cup has always had a sweet taste.\" Those are straightforward and convey satisfaction.\n",
            "\n",
            "Then, suggestions could include words like \"consistent,\" \"timeless,\" or \"reliable.\" These show commitment and quality over time, which is good for someone with aphasia who might need more structure in communication.\n",
            "\n",
            "I should make sure the phrases are clear and positive, avoiding any negative connotations. Also, using common expressions can help them convey their needs without it being hard to understand.\n",
            "\n",
            "Overall, aiming for something that sounds inviting and shows they're looking for support is key. These phrases should encourage others to reach out with their coffee preferences.\n",
            "</think>\n",
            "\n",
            "1. \"I enjoy my coffee.\"  \n",
            "2. \"My cup has always had a sweet taste.\"  \n",
            "3. \"Consistent with the style of my coffee.\"  \n",
            "4. \"My time as a customer seems timeless and reliable.\"  \n",
            "5. \"The flavor I enjoy in my coffee is consistently on point.\"  \n",
            "\n",
            "These phrases are straightforward, inviting, and positive, which might help others communicate their needs to you or someone else.\n"
          ]
        }
      ]
    },
    {
      "cell_type": "code",
      "source": [
        "response = ollama.chat(model=model_name, messages=[\n",
        "    {\n",
        "        \"role\": \"system\",\n",
        "        \"content\": (f\"\"\"\n",
        "            You are a helpful assistant generating short phrases\n",
        "            I am person with aphasia using a speach generating device to communicate with another person\n",
        "            I've selected a {tile_text} tile on my device, what might I say to communicate my needs?\n",
        "            \"\"\"\n",
        "        )\n",
        "    },\n",
        "    {\n",
        "        \"role\": \"user\",\n",
        "        \"content\": (f\"\"\"\n",
        "            The {tile_text} tile has a picture of {tile_image}\n",
        "            I want to say something negative about my needs related to {tile_text}\n",
        "            Generate 3 simple phrases for me to select from.\n",
        "            \"\"\"\n",
        "        )\n",
        "    }\n",
        "])\n",
        "print(\"Model:\", model_name, \"\\n\")\n",
        "print(response['message']['content'])"
      ],
      "metadata": {
        "id": "8z0vu-GTwQex"
      },
      "execution_count": null,
      "outputs": []
    },
    {
      "cell_type": "code",
      "source": [],
      "metadata": {
        "id": "fupu_SAxye8K"
      },
      "execution_count": null,
      "outputs": []
    }
  ]
}